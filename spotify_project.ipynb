{
 "cells": [
  {
   "metadata": {},
   "cell_type": "markdown",
   "source": [
    "# Spotify Recommendation System Project\n",
    "\n",
    "**Purpose:** Build a scalable music recommendation system using PySpark and Spotify datasets.\n",
    "\n",
    "**Group members:**\n",
    "\n",
    "* Raakin Bhatti\n",
    "* Aneesh Bulusu\n",
    "* Walid Farhat\n",
    "* Long Nguyen\n",
    "* Strahinja Radakovic"
   ],
   "id": "cb7cf3c7af7c3e4"
  },
  {
   "metadata": {},
   "cell_type": "markdown",
   "source": [
    "# Introduction\n",
    "\n",
    "**What is our big data problem? What is our goal?**\n",
    "* Build a scalable music recommendation system using a large dataset of songs and their audio features from Spotify.\n",
    "* Given the names of some songs, the algorithm will predict and recommend songs similar to the input songs based on their audio features (e.g. danceability, energy, acoustics, etc.) and categorical data like genres.\n",
    "* Use Spark/PySpark to process large-scale data and develop machine learning algorithms.\n",
    "\n",
    "**Why we chose building Recommendation Systems:**\n",
    "* Recommendation systems are widely used in modern digital platforms to enhance user experience (e.g., Spotify, Netflix, Amazon).\n",
    "* Help users discover relevant content, which helps to increase engagement and satisfaction.\n",
    "\n",
    "**Why Spotify dataset?**\n",
    "* Spotify is a leading music streaming platform which has rich data on songs, audio features, and artists.\n",
    "* The dataset provides an opportunity to analyze music preferences and recommend personalized songs or playlists.\n",
    "\n",
    "**What is a big data challenge?**\n",
    "* Spotify data involves thousands of users, songs, and interactions, requiring storage and processing at scale.\n",
    "* PySpark is well-suited for handling and analyzing big data with its distributed computing capabilities.\n",
    "\n",
    "**Broader applications:**\n",
    "* Insights from the project can extend to other recommendation systems.\n",
    "* Demonstrates the integration of big data tools and machine learning for real-world applications.\n"
   ],
   "id": "9fc38fc12d35af55"
  },
  {
   "metadata": {},
   "cell_type": "markdown",
   "source": [
    "**Filtering method:**\n",
    "\n",
    "Our group's recommendation system will use Content-Based Filtering method instead of Collaborative filtering. Content-Based Filtering method analyzes the audio characteristics of songs you’ve previously enjoyed, then the model will make personalized suggestions. We do not use Collaborative filtering or user-based filtering method becuase we cannot collect the information related to Spotify's users such as `user_id`.\n",
    "\n",
    "**What is the Target Variable for this project?**\n",
    "\n",
    "In a content-based recommendation system, we do not have a traditional \"target variable\" like in supervised learning. Instead, the goal is to calculate similarity metrics between songs based on their features. However, you can think of the **song similarity score** (e.g., cosine similarity, Euclidean distance) as the implicit target metric for creating recommendations.\n",
    "\n",
    "* The goal is to recommend songs similar to the input songs based on their audio features and genres.\n",
    "* For our recommendation system, the focus is on matching songs based on audio features like danceability, energy, acousticness, etc., and categorical data like genre.\n",
    "\n",
    "**What are the interesting Features of the dataset?**\n",
    "\n",
    "*Numerical Features (Audio Characteristics):* \n",
    "\n",
    "* danceability: Indicates how suitable a track is for dancing.\n",
    "* energy: Represents the intensity and activity level of a track.\n",
    "* loudness: Measures the decibel level of the track.\n",
    "* acousticness: Likelihood of the track being acoustic.\n",
    "* instrumentalness: Determines the degree to which a track is instrumental.\n",
    "* valence: Describes the musical positiveness conveyed by a track.\n",
    "* tempo: The speed of the song in beats per minute (BPM).\n",
    "* duration_ms: Song duration, which can help differentiate between shorter and longer tracks.\n",
    "\n",
    "*Categorical Features:*\n",
    "\n",
    "* genre: A key factor in identifying similar songs. \n",
    "* key: Musical key in which the song is composed.\n",
    "* mode: Indicates whether the song is in a major or minor scale.\n",
    "\n",
    "*Meta Information (Optional):*\n",
    "\n",
    "* popularity: While not directly linked to audio characteristics, it can serve as a secondary ranking factor in your recommendations.\n",
    "* year: Could help in filtering songs by era if needed."
   ],
   "id": "568fb4a87c9e4ee7"
  },
  {
   "metadata": {},
   "cell_type": "markdown",
   "source": [
    "# Setting up Spark\n",
    "\n",
    "This section is optional. In case that you have not installed Spark, Hadoop, etc. in your local machine, then this part will help setting up Spark in the Jupyter Notebook for running."
   ],
   "id": "9654b2daf089473"
  },
  {
   "metadata": {
    "ExecuteTime": {
     "end_time": "2024-12-05T04:07:48.213991Z",
     "start_time": "2024-12-05T04:07:48.208470Z"
    }
   },
   "cell_type": "code",
   "source": [
    "## OPTIONAL: Setting up Spark in Jupyter Notebook\n",
    "\n",
    "# !apt-get install openjdk-8-jdk-headless -qq > /dev/null\n",
    "# !wget https://dlcdn.apache.org/spark/spark-3.5.3/spark-3.5.3-bin-hadoop3.tgz\n",
    "# !tar -xvf spark-3.5.3-bin-hadoop3.tgz\n",
    "# !pip install findspark\n",
    "# \n",
    "# import os\n",
    "# os.environ[\"JAVA_HOME\"] = \"/usr/lib/jvm/java-8-openjdk-amd64\"\n",
    "# os.environ[\"SPARK_HOME\"] = \"/content/spark-3.5.3-bin-hadoop3\"\n",
    "# \n",
    "# import findspark\n",
    "# findspark.init()\n",
    "# findspark.find()"
   ],
   "id": "f7c6a9a9e21abfec",
   "outputs": [],
   "execution_count": 1
  },
  {
   "metadata": {
    "ExecuteTime": {
     "end_time": "2024-12-05T04:07:48.226224Z",
     "start_time": "2024-12-05T04:07:48.221001Z"
    }
   },
   "cell_type": "code",
   "source": [
    "## OPTIONAL: Test if PySpark is ready to go\n",
    "\n",
    "# from pyspark.sql import SparkSession\n",
    "# \n",
    "# spark = SparkSession.builder.appName(\"Test\").getOrCreate()\n",
    "# print(f\"Spark version:\", spark.version)\n",
    "# \n",
    "# spark.stop()\n",
    "\n",
    "## expected result: 3.5.3 or similar"
   ],
   "id": "4e85d88f72d3ae04",
   "outputs": [],
   "execution_count": 2
  },
  {
   "metadata": {},
   "cell_type": "markdown",
   "source": [
    "# Data Collection\n",
    "\n",
    "**Required Tasks:**\n",
    "* Load the dataset into a PySpark DataFrame.\n",
    "* Verify the dataset schema and check if the data is loaded correctly.\n",
    "\n",
    "**Output:** A PySpark DataFrame loaded and ready for processing, with the schema verified.\n"
   ],
   "id": "7bfca0ce77f2b1db"
  },
  {
   "metadata": {},
   "cell_type": "markdown",
   "source": [
    "### How we get the dataset?\n",
    "\n",
    "We extracted the dataset from Spotify using Spotify API and the `Spotipy` library in Python.\n",
    "\n",
    "Attached the Python files for extraction and transformation (from JSON to CSV). Please note that these files are for references only, because in order to run those files, you will have to set up a virtual environment."
   ],
   "id": "8a58a580889aaca5"
  },
  {
   "metadata": {},
   "cell_type": "markdown",
   "source": "### Loading datasets",
   "id": "f5e7046225ee57ac"
  },
  {
   "metadata": {
    "ExecuteTime": {
     "end_time": "2024-12-05T04:07:48.342450Z",
     "start_time": "2024-12-05T04:07:48.325784Z"
    }
   },
   "cell_type": "code",
   "source": [
    "import findspark\n",
    "findspark.init()\n",
    "findspark.find()"
   ],
   "id": "cefc2a953d7d634c",
   "outputs": [
    {
     "data": {
      "text/plain": [
       "'C:\\\\Program Files\\\\spark-3.5.3'"
      ]
     },
     "execution_count": 3,
     "metadata": {},
     "output_type": "execute_result"
    }
   ],
   "execution_count": 3
  },
  {
   "metadata": {
    "ExecuteTime": {
     "end_time": "2024-12-05T04:07:49.824202Z",
     "start_time": "2024-12-05T04:07:48.433439Z"
    }
   },
   "cell_type": "code",
   "source": [
    "# import libraries\n",
    "from pyspark.sql import SparkSession\n",
    "from pyspark.sql.functions import col, when, count, lit\n",
    "import pandas as pd\n",
    "import matplotlib.pyplot as plt"
   ],
   "id": "e6c0c9482a3b0e38",
   "outputs": [],
   "execution_count": 4
  },
  {
   "metadata": {
    "ExecuteTime": {
     "end_time": "2024-12-05T04:07:54.303411Z",
     "start_time": "2024-12-05T04:07:49.831923Z"
    }
   },
   "cell_type": "code",
   "source": [
    "# initialize a SparkSession\n",
    "spark = SparkSession.builder \\\n",
    "    .appName(\"SpotifyRecommendationSystem\") \\\n",
    "    .config(\"spark.executor.memory\", \"8g\") \\\n",
    "    .config(\"spark.driver.memory\", \"8g\") \\\n",
    "    .config(\"spark.executor.cores\", \"4\") \\\n",
    "    .getOrCreate()\n",
    "\n",
    "print(f\"Spark version:\", spark.version)"
   ],
   "id": "4fb75fbe68fad190",
   "outputs": [
    {
     "name": "stdout",
     "output_type": "stream",
     "text": [
      "Spark version: 3.5.3\n"
     ]
    }
   ],
   "execution_count": 5
  },
  {
   "metadata": {
    "ExecuteTime": {
     "end_time": "2024-12-05T04:08:04.011015Z",
     "start_time": "2024-12-05T04:07:54.333298Z"
    }
   },
   "cell_type": "code",
   "source": [
    "# load dataset into a DataFrame\n",
    "file_path = \"./dataset/spotify_dataset.csv\" # Note: The dataset file is too large (>250 MB) to commit to a GitHub repo.\n",
    "spotify_df = spark.read.csv(file_path, header=True, inferSchema=True)\n",
    "\n",
    "# display the first few rows\n",
    "spotify_df.show(5)\n"
   ],
   "id": "9bcc09d58d3b4dd0",
   "outputs": [
    {
     "name": "stdout",
     "output_type": "stream",
     "text": [
      "+---+-------------+----------------+--------------------+----------+----+--------+------------+------+---+--------+----+-----------+------------+----------------+--------+-------+-------+-----------+--------------+\n",
      "|_c0|  artist_name|      track_name|            track_id|popularity|year|   genre|danceability|energy|key|loudness|mode|speechiness|acousticness|instrumentalness|liveness|valence|  tempo|duration_ms|time_signature|\n",
      "+---+-------------+----------------+--------------------+----------+----+--------+------------+------+---+--------+----+-----------+------------+----------------+--------+-------+-------+-----------+--------------+\n",
      "|  0|   Jason Mraz| I Won't Give Up|53QF56cjZA9RTuuMZ...|        68|2012|acoustic|       0.483| 0.303|  4| -10.058|   1|     0.0429|       0.694|             0.0|   0.115|  0.139|133.406|   240166.0|           3.0|\n",
      "|  1|   Jason Mraz|93 Million Miles|1s8tP3jP4GZcyHDsj...|        50|2012|acoustic|       0.572| 0.454|  3| -10.286|   1|     0.0258|       0.477|        1.37e-05|  0.0974|  0.515|140.182|   216387.0|           4.0|\n",
      "|  2|Joshua Hyslop|Do Not Let Me Go|7BRCa8MPiyuvr2VU3...|        57|2012|acoustic|       0.409| 0.234|  3| -13.711|   1|     0.0323|       0.338|           5e-05|  0.0895|  0.145|139.832|   158960.0|           4.0|\n",
      "|  3| Boyce Avenue|        Fast Car|63wsZUhUZLlh1Osyr...|        58|2012|acoustic|       0.392| 0.251| 10|  -9.845|   1|     0.0363|       0.807|             0.0|  0.0797|  0.508|204.961|   304293.0|           4.0|\n",
      "|  4| Andrew Belle|Sky's Still Blue|6nXIYClvJAfi6ujLi...|        54|2012|acoustic|        0.43| 0.791|  6|  -5.419|   0|     0.0302|      0.0726|          0.0193|    0.11|  0.217|171.864|   244320.0|           4.0|\n",
      "+---+-------------+----------------+--------------------+----------+----+--------+------------+------+---+--------+----+-----------+------------+----------------+--------+-------+-------+-----------+--------------+\n",
      "only showing top 5 rows\n",
      "\n"
     ]
    }
   ],
   "execution_count": 6
  },
  {
   "metadata": {},
   "cell_type": "markdown",
   "source": [
    "# Data Inspection and Validation\n",
    "\n",
    "In this section, we will do the following tasks:\n",
    "\n",
    "* Check the data schema with column names and data types.\n",
    "* Convert data types if needed.\n",
    "* Check for the summary statistics of the dataset.\n",
    "* Check for missing values. Handle missing values properly.\n",
    "* Check for outliers. Handle the outliers.\n",
    "* Check for distinct values."
   ],
   "id": "ed3a962387bf81e8"
  },
  {
   "metadata": {
    "ExecuteTime": {
     "end_time": "2024-12-05T04:08:04.093112Z",
     "start_time": "2024-12-05T04:08:04.088074Z"
    }
   },
   "cell_type": "code",
   "source": [
    "# print schema to verify column names and data types\n",
    "spotify_df.printSchema()"
   ],
   "id": "4123d71c842833d3",
   "outputs": [
    {
     "name": "stdout",
     "output_type": "stream",
     "text": [
      "root\n",
      " |-- _c0: integer (nullable = true)\n",
      " |-- artist_name: string (nullable = true)\n",
      " |-- track_name: string (nullable = true)\n",
      " |-- track_id: string (nullable = true)\n",
      " |-- popularity: string (nullable = true)\n",
      " |-- year: string (nullable = true)\n",
      " |-- genre: string (nullable = true)\n",
      " |-- danceability: string (nullable = true)\n",
      " |-- energy: string (nullable = true)\n",
      " |-- key: string (nullable = true)\n",
      " |-- loudness: string (nullable = true)\n",
      " |-- mode: string (nullable = true)\n",
      " |-- speechiness: string (nullable = true)\n",
      " |-- acousticness: string (nullable = true)\n",
      " |-- instrumentalness: string (nullable = true)\n",
      " |-- liveness: string (nullable = true)\n",
      " |-- valence: double (nullable = true)\n",
      " |-- tempo: double (nullable = true)\n",
      " |-- duration_ms: double (nullable = true)\n",
      " |-- time_signature: double (nullable = true)\n",
      "\n"
     ]
    }
   ],
   "execution_count": 7
  },
  {
   "metadata": {},
   "cell_type": "markdown",
   "source": [
    "**Data type conversins:**\n",
    "\n",
    "From [Spotify's API documentation](https://developer.spotify.com/documentation/web-api/reference/get-audio-features) about track's audio features, each feature has its own meaning and data types. So we will convert the data types of features in our dataset to match Spotify's documentation."
   ],
   "id": "74c1c8744d12f801"
  },
  {
   "metadata": {
    "ExecuteTime": {
     "end_time": "2024-12-05T04:08:04.427238Z",
     "start_time": "2024-12-05T04:08:04.210739Z"
    }
   },
   "cell_type": "code",
   "source": [
    "# casting columns to their appropriate data types as per Spotify's documentation\n",
    "spotify_df = spotify_df \\\n",
    "    .withColumn(\"popularity\", col(\"popularity\").cast(\"int\")) \\\n",
    "    .withColumn(\"year\", col(\"year\").cast(\"int\")) \\\n",
    "    .withColumn(\"danceability\", col(\"danceability\").cast(\"float\")) \\\n",
    "    .withColumn(\"energy\", col(\"energy\").cast(\"float\")) \\\n",
    "    .withColumn(\"key\", col(\"key\").cast(\"int\")) \\\n",
    "    .withColumn(\"loudness\", col(\"loudness\").cast(\"float\")) \\\n",
    "    .withColumn(\"mode\", col(\"mode\").cast(\"int\")) \\\n",
    "    .withColumn(\"speechiness\", col(\"speechiness\").cast(\"float\")) \\\n",
    "    .withColumn(\"acousticness\", col(\"acousticness\").cast(\"float\")) \\\n",
    "    .withColumn(\"instrumentalness\", col(\"instrumentalness\").cast(\"float\")) \\\n",
    "    .withColumn(\"liveness\", col(\"liveness\").cast(\"float\")) \\\n",
    "    .withColumn(\"tempo\", col(\"tempo\").cast(\"float\")) \\\n",
    "    .withColumn(\"time_signature\", col(\"time_signature\").cast(\"int\"))\n",
    "\n",
    "# re-check the updated schema\n",
    "spotify_df.printSchema()\n"
   ],
   "id": "90e820975ec6874d",
   "outputs": [
    {
     "name": "stdout",
     "output_type": "stream",
     "text": [
      "root\n",
      " |-- _c0: integer (nullable = true)\n",
      " |-- artist_name: string (nullable = true)\n",
      " |-- track_name: string (nullable = true)\n",
      " |-- track_id: string (nullable = true)\n",
      " |-- popularity: integer (nullable = true)\n",
      " |-- year: integer (nullable = true)\n",
      " |-- genre: string (nullable = true)\n",
      " |-- danceability: float (nullable = true)\n",
      " |-- energy: float (nullable = true)\n",
      " |-- key: integer (nullable = true)\n",
      " |-- loudness: float (nullable = true)\n",
      " |-- mode: integer (nullable = true)\n",
      " |-- speechiness: float (nullable = true)\n",
      " |-- acousticness: float (nullable = true)\n",
      " |-- instrumentalness: float (nullable = true)\n",
      " |-- liveness: float (nullable = true)\n",
      " |-- valence: double (nullable = true)\n",
      " |-- tempo: float (nullable = true)\n",
      " |-- duration_ms: double (nullable = true)\n",
      " |-- time_signature: integer (nullable = true)\n",
      "\n"
     ]
    }
   ],
   "execution_count": 8
  },
  {
   "metadata": {
    "ExecuteTime": {
     "end_time": "2024-12-05T04:08:05.327401Z",
     "start_time": "2024-12-05T04:08:04.450577Z"
    }
   },
   "cell_type": "code",
   "source": [
    "# count total rows in the dataset\n",
    "total_rows = spotify_df.count()\n",
    "print(f\"Total rows in the dataset: {total_rows}\")"
   ],
   "id": "10707cba07e8edda",
   "outputs": [
    {
     "name": "stdout",
     "output_type": "stream",
     "text": [
      "Total rows in the dataset: 1159764\n"
     ]
    }
   ],
   "execution_count": 9
  },
  {
   "metadata": {},
   "cell_type": "markdown",
   "source": "Remarks: The dataset contains 1,159,764 rows, which is quite large, indicating the need for big data tools like PySpark.",
   "id": "de887a331b3feed2"
  },
  {
   "metadata": {},
   "cell_type": "markdown",
   "source": [
    "**Check for Summary Statistics:**\n",
    "\n",
    "Next, we want to check for the summary statistics of the dataset. In [Spark](https://spark.apache.org/docs/latest/api/python/reference/pyspark.sql/api/pyspark.sql.DataFrame.describe.html), if using `.describe()` method, it will by default calculate the stats for all columns including both numerical and non-numerical (string) columns. Therefore, we have to filter out the columns based on their data types as follows."
   ],
   "id": "40fe6fa2e6568d95"
  },
  {
   "metadata": {
    "ExecuteTime": {
     "end_time": "2024-12-05T04:08:10.080486Z",
     "start_time": "2024-12-05T04:08:05.359918Z"
    }
   },
   "cell_type": "code",
   "source": [
    "# filter numeric columns using dtypes\n",
    "numeric_columns = [name for name, dtype in spotify_df.dtypes if dtype in ('int', 'bigint', 'double', 'float', 'decimal')]\n",
    "\n",
    "# select only numeric columns\n",
    "numeric_df = spotify_df.select(*numeric_columns)\n",
    "\n",
    "# show summary statistics for numerical columns only\n",
    "numeric_df.describe().show()"
   ],
   "id": "9b3ddea969b36fb3",
   "outputs": [
    {
     "name": "stdout",
     "output_type": "stream",
     "text": [
      "+-------+-----------------+------------------+------------------+-----------------+------------------+------------------+------------------+-----------------+-------------------+-------------------+-------------------+-------------------+-------------------+------------------+------------------+------------------+\n",
      "|summary|              _c0|        popularity|              year|     danceability|            energy|               key|          loudness|             mode|        speechiness|       acousticness|   instrumentalness|           liveness|            valence|             tempo|       duration_ms|    time_signature|\n",
      "+-------+-----------------+------------------+------------------+-----------------+------------------+------------------+------------------+-----------------+-------------------+-------------------+-------------------+-------------------+-------------------+------------------+------------------+------------------+\n",
      "|  count|          1159764|           1158091|           1159141|          1158580|           1159356|           1159602|           1159670|          1159731|            1159748|            1159756|            1159761|            1159762|            1159764|           1159764|           1159764|           1159764|\n",
      "|   mean|659061.3219129064|18.393719491818864|2010.1450030669264|1.151689557821435|0.8750431817828228| 5.421848185843074| -8.90125644459297|0.642995660200512|0.10187417859253778|0.32384287579000465|0.25511809159462906|0.22280301037863148|0.45543146363409936| 121.2262622110439|249223.50955903548|219.83662710689416|\n",
      "| stddev|428549.1535705906|15.888212092912061| 60.52526727918657|35.12214257953176|21.720800387148365|17.144522698291876|11.435647099557297|7.026148812516287| 5.2942646995895775| 3.2571918436446836|  2.666910391613436| 0.2258207729737689| 0.2759459120284293|30.103371885007203| 149607.9337131288| 8673.273461566454|\n",
      "|    min|                0|                 0|                 0|              0.0|               0.0|                 0|             -58.1|              -43|            -36.843|            -36.639|            -38.845|            -29.312|            -29.777|           -24.073|           -17.417|               -22|\n",
      "|    max|          1473395|               100|              2023|           2023.0|            2023.0|              2023|            2023.0|             2023|             2017.0|             2017.0|             2009.0|               10.0|               11.0|           249.993|         6000495.0|           1358453|\n",
      "+-------+-----------------+------------------+------------------+-----------------+------------------+------------------+------------------+-----------------+-------------------+-------------------+-------------------+-------------------+-------------------+------------------+------------------+------------------+\n",
      "\n"
     ]
    }
   ],
   "execution_count": 10
  },
  {
   "metadata": {},
   "cell_type": "markdown",
   "source": [
    "**Remarks for summary statistics:**\n",
    "\n",
    "* `popularity`: Ranges from 0 to 100, indicating a reasonable scale for popularity.\n",
    "* `year`: The dataset includes tracks from 0 to 2023. The value 0 seems anomalous and might need further investigation.\n",
    "* Other features like `danceability`, `energy`, `tempo`, and `duration_ms` have a wide range of values, which may need normalization or standardization for machine learning.\n",
    "* Potential outliers: Columns like `tempo` (min = -24.073) and `loudness` (min = -58.1) have unusual values that might indicate outliers or data entry issues."
   ],
   "id": "ce1bd7a6f443e685"
  },
  {
   "metadata": {
    "ExecuteTime": {
     "end_time": "2024-12-05T04:08:12.143729Z",
     "start_time": "2024-12-05T04:08:10.175157Z"
    }
   },
   "cell_type": "code",
   "source": [
    "# check for missing values in each column\n",
    "missing_values = spotify_df.select([\n",
    "    count(when(col(c).isNull(), c)).alias(c) for c in spotify_df.columns\n",
    "])\n",
    "missing_values.show()"
   ],
   "id": "8566923377d65c27",
   "outputs": [
    {
     "name": "stdout",
     "output_type": "stream",
     "text": [
      "+---+-----------+----------+--------+----------+----+-----+------------+------+---+--------+----+-----------+------------+----------------+--------+-------+-----+-----------+--------------+\n",
      "|_c0|artist_name|track_name|track_id|popularity|year|genre|danceability|energy|key|loudness|mode|speechiness|acousticness|instrumentalness|liveness|valence|tempo|duration_ms|time_signature|\n",
      "+---+-----------+----------+--------+----------+----+-----+------------+------+---+--------+----+-----------+------------+----------------+--------+-------+-----+-----------+--------------+\n",
      "|  0|          0|         0|       0|      1673| 623|    0|        1184|   408|162|      94|  33|         16|           8|               3|       2|      0|    0|          0|             0|\n",
      "+---+-----------+----------+--------+----------+----+-----+------------+------+---+--------+----+-----------+------------+----------------+--------+-------+-----+-----------+--------------+\n",
      "\n"
     ]
    }
   ],
   "execution_count": 11
  },
  {
   "metadata": {},
   "cell_type": "markdown",
   "source": [
    "**Remarks for missing values:**\n",
    "\n",
    "* Columns with missing data: popularity (1,673 missing values), year (623), and others such as  danceability, energy, key, loudness, and mode.\n",
    "* Given the dataset has over 1.15M rows, the proportion of missing data is extremely small (less than 0.1% for all affected columns).\n",
    "* In this case, we will drop rows with missing values in features that are critical for our recommendation system."
   ],
   "id": "96848fd8d14259c1"
  },
  {
   "metadata": {
    "ExecuteTime": {
     "end_time": "2024-12-05T04:08:13.317679Z",
     "start_time": "2024-12-05T04:08:12.195908Z"
    }
   },
   "cell_type": "code",
   "source": [
    "# drop rows with missing data in critical columns\n",
    "columns_to_check = ['popularity', 'year', 'danceability', 'energy', 'key', 'loudness', 'mode', 'speechiness', 'acousticness', 'instrumentalness', 'liveness']\n",
    "\n",
    "spotify_df_clean = spotify_df.na.drop(subset=columns_to_check)\n",
    "\n",
    "# verify the number of rows after dropping\n",
    "cleaned_rows = spotify_df_clean.count()\n",
    "print(f\"Rows after dropping missing data: {cleaned_rows}\")\n",
    "\n",
    "dropped_rows = total_rows - cleaned_rows\n",
    "print(f\"Number of rows dropped: {dropped_rows}\")\n"
   ],
   "id": "47e94b8710ab756",
   "outputs": [
    {
     "name": "stdout",
     "output_type": "stream",
     "text": [
      "Rows after dropping missing data: 1158091\n",
      "Number of rows dropped: 1673\n"
     ]
    }
   ],
   "execution_count": 12
  },
  {
   "metadata": {},
   "cell_type": "markdown",
   "source": [
    "**Anomalies and Outliers**:\n",
    "\n",
    "We will investigate the folloiwng things:\n",
    "\n",
    "* Check for distinct values of `year` column to make sure no abnormal values (such as 1500).\n",
    "* \n",
    "\n"
   ],
   "id": "2ba0ba961fd386ff"
  },
  {
   "metadata": {
    "ExecuteTime": {
     "end_time": "2024-12-05T04:08:14.750080Z",
     "start_time": "2024-12-05T04:08:13.339187Z"
    }
   },
   "cell_type": "code",
   "source": [
    "# get distinct years and their frequencies\n",
    "year_distribution = spotify_df_clean.groupBy(\"year\").count().orderBy(\"year\")\n",
    "\n",
    "year_distribution.show(50)"
   ],
   "id": "b1e523b5392689d7",
   "outputs": [
    {
     "name": "stdout",
     "output_type": "stream",
     "text": [
      "+----+-----+\n",
      "|year|count|\n",
      "+----+-----+\n",
      "|2000|43944|\n",
      "|2001|42316|\n",
      "|2002|42084|\n",
      "|2003|42250|\n",
      "|2004|43293|\n",
      "|2005|43708|\n",
      "|2006|45419|\n",
      "|2007|45920|\n",
      "|2008|47336|\n",
      "|2009|46810|\n",
      "|2010|46818|\n",
      "|2011|46381|\n",
      "|2012|54725|\n",
      "|2013|53105|\n",
      "|2014|53120|\n",
      "|2015|51569|\n",
      "|2016|40246|\n",
      "|2017|56171|\n",
      "|2018|56541|\n",
      "|2019|55739|\n",
      "|2020|55035|\n",
      "|2021|53529|\n",
      "|2022|53637|\n",
      "|2023|38395|\n",
      "+----+-----+\n",
      "\n"
     ]
    }
   ],
   "execution_count": 13
  },
  {
   "metadata": {},
   "cell_type": "markdown",
   "source": "Remarks for `year`: The years range from 2000 to 2023, which are expected and normal.",
   "id": "a854ab265f1643f9"
  },
  {
   "metadata": {},
   "cell_type": "markdown",
   "source": [
    "**Check for anomalies in numerical columns:**\n",
    "\n",
    "Compare data against the value ranges specified in the [Spotify documentation](https://developer.spotify.com/documentation/web-api/reference/get-audio-features):\n",
    "* acousticness: [0, 1]\n",
    "* danceability: [0, 1]\n",
    "* energy: [0, 1] \n",
    "* instrumentalness: [0, 1]\n",
    "* key: [-1, 11]\n",
    "* liveness: [0, 1]\n",
    "* mode: {0, 1}\n",
    "* speechiness: [0, 1]\n",
    "* tempo: Typically [1, 250], (note: this is a typical range; Spotify docs don't strictly enforce this.)\n",
    "* time_signature: [3, 7]\n",
    "* valence: [0, 1]"
   ],
   "id": "24aac1c3616ec577"
  },
  {
   "metadata": {
    "ExecuteTime": {
     "end_time": "2024-12-05T04:08:25.559999Z",
     "start_time": "2024-12-05T04:08:14.778657Z"
    }
   },
   "cell_type": "code",
   "source": [
    "# define the range checks for each feature\n",
    "range_checks = {\n",
    "    \"acousticness\": (0, 1),\n",
    "    \"danceability\": (0, 1),\n",
    "    \"energy\": (0, 1),\n",
    "    \"instrumentalness\": (0, 1),\n",
    "    \"key\": (-1, 11),\n",
    "    \"liveness\": (0, 1),\n",
    "    \"mode\": (0, 1),\n",
    "    \"speechiness\": (0, 1),\n",
    "    \"tempo\": (1, 350),\n",
    "    \"time_signature\": (3, 7),\n",
    "    \"valence\": (0, 1),\n",
    "}\n",
    "\n",
    "# identify anomalies in each feature\n",
    "anomalies = {}\n",
    "for feature, (min_val, max_val) in range_checks.items():\n",
    "    anomalies[feature] = spotify_df_clean.filter((col(feature) < min_val) | (col(feature) > max_val)).count()\n",
    "\n",
    "# print the anomalies count for each feature\n",
    "for feature, count in anomalies.items():\n",
    "    print(f\"Number of anomalies in {feature}: {count}\")\n"
   ],
   "id": "99b55d3ed6c61adf",
   "outputs": [
    {
     "name": "stdout",
     "output_type": "stream",
     "text": [
      "Number of anomalies in acousticness: 0\n",
      "Number of anomalies in danceability: 0\n",
      "Number of anomalies in energy: 0\n",
      "Number of anomalies in instrumentalness: 0\n",
      "Number of anomalies in key: 0\n",
      "Number of anomalies in liveness: 0\n",
      "Number of anomalies in mode: 0\n",
      "Number of anomalies in speechiness: 0\n",
      "Number of anomalies in tempo: 1198\n",
      "Number of anomalies in time_signature: 13816\n",
      "Number of anomalies in valence: 0\n"
     ]
    }
   ],
   "execution_count": 14
  },
  {
   "metadata": {},
   "cell_type": "markdown",
   "source": [
    "From the results:\n",
    "\n",
    "* No Anomalies:\n",
    "    * Most features (acousticness, danceability, energy, instrumentalness, etc.) have no anomalies. These are clean and can be used as-is.\n",
    "* tempo Anomalies:\n",
    "    * 1,198 anomalies fall outside the range [1, 250]. These might include invalid or outlier values (e.g., extremely high or low BPM).\n",
    "* time_signature Anomalies:\n",
    "    * 13,816 anomalies fall outside the range [3, 7]. These could represent tracks with unusual time signatures, potentially errors or special cases."
   ],
   "id": "875d6ac86a79c69f"
  },
  {
   "metadata": {
    "ExecuteTime": {
     "end_time": "2024-12-05T04:08:26.344655Z",
     "start_time": "2024-12-05T04:08:25.578526Z"
    }
   },
   "cell_type": "code",
   "source": [
    "# Show rows with tempo anomalies\n",
    "tempo_anomalies = spotify_df_clean.filter((col(\"tempo\") < 1) | (col(\"tempo\") > 350))\n",
    "\n",
    "# Descriptive statistics for tempo anomalies\n",
    "tempo_anomalies.describe(\"tempo\").show()\n"
   ],
   "id": "d00741f3b2fbb380",
   "outputs": [
    {
     "name": "stdout",
     "output_type": "stream",
     "text": [
      "+-------+-----+\n",
      "|summary|tempo|\n",
      "+-------+-----+\n",
      "|  count| 1198|\n",
      "|   mean|  0.0|\n",
      "| stddev|  0.0|\n",
      "|    min|  0.0|\n",
      "|    max|  0.0|\n",
      "+-------+-----+\n",
      "\n"
     ]
    }
   ],
   "execution_count": 15
  },
  {
   "metadata": {},
   "cell_type": "markdown",
   "source": [
    "**Remarks for Tempo:**\n",
    "\n",
    "* As you can see, the min and max values of tempo anomalies are 0.0, which means these values are missing in the dataset (i.e. 0.0 == missing values). We can eliminate them since the quantity is very small in the dataset."
   ],
   "id": "249dfb69963fa5e4"
  },
  {
   "metadata": {
    "ExecuteTime": {
     "end_time": "2024-12-05T04:08:27.354581Z",
     "start_time": "2024-12-05T04:08:26.354740Z"
    }
   },
   "cell_type": "code",
   "source": [
    "# Show rows with time_signature anomalies\n",
    "time_signature_anomalies = spotify_df_clean.filter((col(\"time_signature\") < 3) | (col(\"time_signature\") > 7))\n",
    "\n",
    "# Descriptive statistics for time_signature anomalies\n",
    "time_signature_anomalies.describe(\"time_signature\").show()\n"
   ],
   "id": "979f1c940d61d660",
   "outputs": [
    {
     "name": "stdout",
     "output_type": "stream",
     "text": [
      "+-------+-------------------+\n",
      "|summary|     time_signature|\n",
      "+-------+-------------------+\n",
      "|  count|              13816|\n",
      "|   mean| 0.9111899247249565|\n",
      "| stddev|0.28447970650303633|\n",
      "|    min|                  0|\n",
      "|    max|                  1|\n",
      "+-------+-------------------+\n",
      "\n"
     ]
    }
   ],
   "execution_count": 16
  },
  {
   "metadata": {},
   "cell_type": "markdown",
   "source": "",
   "id": "baef496f7594381b"
  },
  {
   "metadata": {},
   "cell_type": "markdown",
   "source": [
    "# Data Filtering\n",
    "\n",
    "In this section, we will identify and retain only the relevant features for building the recommendation system. We will consider dropping irrelevant or redundant columns like `_c0` that may not contribute to the model.\n",
    "\n",
    "* Since `time_signature` feature has more than 13K values of anamolies and has little importance to finding similarities between songs, we will drop this feature.\n",
    "* `_c0` feature is only the index of the dataset and will contribute to the model so we will drop it."
   ],
   "id": "8aa5692fb3749b56"
  },
  {
   "metadata": {
    "ExecuteTime": {
     "end_time": "2024-12-05T04:08:27.581682Z",
     "start_time": "2024-12-05T04:08:27.377098Z"
    }
   },
   "cell_type": "code",
   "source": [
    "# retain only relevant features for the recommendation system\n",
    "selected_columns = [\n",
    "    'artist_name', 'track_name', 'track_id', 'popularity', 'year', \n",
    "    'genre', 'danceability', 'energy', 'key', 'loudness', 'mode', \n",
    "    'speechiness', 'acousticness', 'instrumentalness', 'liveness', \n",
    "    'valence', 'tempo', 'duration_ms'\n",
    "]\n",
    "\n",
    "# create a filtered DataFrame\n",
    "spotify_df_filtered = spotify_df_clean.select(*selected_columns)\n",
    "\n",
    "# show the schema of the filtered DataFrame\n",
    "spotify_df_filtered.printSchema()\n",
    "\n",
    "# verify the filtering process\n",
    "spotify_df_filtered.show(5)\n"
   ],
   "id": "d129fe4ebe4819e8",
   "outputs": [
    {
     "name": "stdout",
     "output_type": "stream",
     "text": [
      "root\n",
      " |-- artist_name: string (nullable = true)\n",
      " |-- track_name: string (nullable = true)\n",
      " |-- track_id: string (nullable = true)\n",
      " |-- popularity: integer (nullable = true)\n",
      " |-- year: integer (nullable = true)\n",
      " |-- genre: string (nullable = true)\n",
      " |-- danceability: float (nullable = true)\n",
      " |-- energy: float (nullable = true)\n",
      " |-- key: integer (nullable = true)\n",
      " |-- loudness: float (nullable = true)\n",
      " |-- mode: integer (nullable = true)\n",
      " |-- speechiness: float (nullable = true)\n",
      " |-- acousticness: float (nullable = true)\n",
      " |-- instrumentalness: float (nullable = true)\n",
      " |-- liveness: float (nullable = true)\n",
      " |-- valence: double (nullable = true)\n",
      " |-- tempo: float (nullable = true)\n",
      " |-- duration_ms: double (nullable = true)\n",
      "\n",
      "+-------------+----------------+--------------------+----------+----+--------+------------+------+---+--------+----+-----------+------------+----------------+--------+-------+-------+-----------+\n",
      "|  artist_name|      track_name|            track_id|popularity|year|   genre|danceability|energy|key|loudness|mode|speechiness|acousticness|instrumentalness|liveness|valence|  tempo|duration_ms|\n",
      "+-------------+----------------+--------------------+----------+----+--------+------------+------+---+--------+----+-----------+------------+----------------+--------+-------+-------+-----------+\n",
      "|   Jason Mraz| I Won't Give Up|53QF56cjZA9RTuuMZ...|        68|2012|acoustic|       0.483| 0.303|  4| -10.058|   1|     0.0429|       0.694|             0.0|   0.115|  0.139|133.406|   240166.0|\n",
      "|   Jason Mraz|93 Million Miles|1s8tP3jP4GZcyHDsj...|        50|2012|acoustic|       0.572| 0.454|  3| -10.286|   1|     0.0258|       0.477|         1.37E-5|  0.0974|  0.515|140.182|   216387.0|\n",
      "|Joshua Hyslop|Do Not Let Me Go|7BRCa8MPiyuvr2VU3...|        57|2012|acoustic|       0.409| 0.234|  3| -13.711|   1|     0.0323|       0.338|          5.0E-5|  0.0895|  0.145|139.832|   158960.0|\n",
      "| Boyce Avenue|        Fast Car|63wsZUhUZLlh1Osyr...|        58|2012|acoustic|       0.392| 0.251| 10|  -9.845|   1|     0.0363|       0.807|             0.0|  0.0797|  0.508|204.961|   304293.0|\n",
      "| Andrew Belle|Sky's Still Blue|6nXIYClvJAfi6ujLi...|        54|2012|acoustic|        0.43| 0.791|  6|  -5.419|   0|     0.0302|      0.0726|          0.0193|    0.11|  0.217|171.864|   244320.0|\n",
      "+-------------+----------------+--------------------+----------+----+--------+------------+------+---+--------+----+-----------+------------+----------------+--------+-------+-------+-----------+\n",
      "only showing top 5 rows\n",
      "\n"
     ]
    }
   ],
   "execution_count": 17
  },
  {
   "metadata": {
    "ExecuteTime": {
     "end_time": "2024-12-05T04:08:34.082906Z",
     "start_time": "2024-12-05T04:08:27.601157Z"
    }
   },
   "cell_type": "code",
   "source": [
    "# Count distinct values in key columns\n",
    "key_columns = ['artist_name', 'track_name', 'genre']\n",
    "distinct_counts = {col_name: spotify_df_filtered.select(col_name).distinct().count() for col_name in key_columns}\n",
    "\n",
    "for col_name, count in distinct_counts.items():\n",
    "    print(f\"Distinct values in {col_name}: {count}\")"
   ],
   "id": "7d84a44e2676678c",
   "outputs": [
    {
     "name": "stdout",
     "output_type": "stream",
     "text": [
      "Distinct values in artist_name: 64144\n",
      "Distinct values in track_name: 880697\n",
      "Distinct values in genre: 82\n"
     ]
    }
   ],
   "execution_count": 18
  },
  {
   "metadata": {
    "ExecuteTime": {
     "end_time": "2024-12-05T04:08:34.115579Z",
     "start_time": "2024-12-05T04:08:34.102905Z"
    }
   },
   "cell_type": "code",
   "source": "",
   "id": "5b651c9d6dcd98c7",
   "outputs": [],
   "execution_count": null
  },
  {
   "metadata": {},
   "cell_type": "markdown",
   "source": [
    "# Data Transformations\n",
    "\n",
    "Here are the goals of this section:\n",
    "\n",
    "1. **Encode categorical features:** Features like `genre` and `artist_name` are categorical and need to be encoded to numeric values for modeling.\n",
    "2. **Normalize or scale numeric features:** Standardized scales are crucial for similarity metrics like cosine similarity or Euclidean distance. Features like `danceability`, `energy`, `tempo`, etc., may have varying ranges, which can affect model performance. Therefore, we will normalize or standardize these values.\n",
    "3. **Generate additional features (if needed):** Create new features based on existing ones. For example, you might engineer a feature for \"popularity bucket\" if grouping songs by popularity levels makes sense for your recommendation algorithm. Or group songs by year into broader time periods (e.g., 5-year period) for optional temporal filtering."
   ],
   "id": "cb996db1b9e070f5"
  },
  {
   "metadata": {},
   "cell_type": "markdown",
   "source": [
    "## Encoding categorial features\n",
    "\n",
    "There are mutilple approaches for encoding categorical features, such as one-hot encoding, label encoding, embedding, frequency/popularity encoding, etc. We will choose the most suitable approach for each categorical feature based on their characteristics in the dataset.\n",
    "\n",
    "We will encode `genre` and `artist_name` to numeric values using PySpark's `StringIndexer`.\n",
    "\n",
    "### 1. Encoding `genre` feature\n",
    "\n",
    "We will use one-hot encoding technique for `genre` because this feature has a limited number of unique values (392 in the dataset). Also, this technique works well with similarity metrics since each genre becomes a distinct dimension.\n"
   ],
   "id": "e93e75eb10447385"
  },
  {
   "metadata": {
    "ExecuteTime": {
     "end_time": "2024-12-05T04:08:35.136844Z",
     "start_time": "2024-12-05T04:08:34.134682Z"
    }
   },
   "cell_type": "code",
   "source": [
    "# Get distinct values of the 'genre' column\n",
    "unique_genres = spotify_df_filtered.select(\"genre\").distinct()\n",
    "unique_genres_list = [row['genre'] for row in unique_genres.collect()]\n",
    "print(unique_genres_list)"
   ],
   "id": "24125136ee383d83",
   "outputs": [
    {
     "name": "stdout",
     "output_type": "stream",
     "text": [
      "['singer-songwriter', 'folk', 'hardstyle', 'pop', 'death-metal', 'detroit-techno', 'k-pop', 'ambient', 'guitar', 'goth', 'cantopop', 'blues', 'breakbeat', 'dance', 'groove', 'indian', 'german', 'sad', 'spanish', 'french', 'electronic', 'dub', 'deep-house', 'edm', 'rock-n-roll', 'power-pop', 'progressive-house', 'swedish', 'chill', 'party', 'hip-hop', 'techno', 'hard-rock', 'indie-pop', 'jazz', 'new-age', 'show-tunes', 'trip-hop', 'punk-rock', 'country', 'hardcore', 'industrial', 'metalcore', 'songwriter', 'metal', 'soul', 'psych-rock', 'grindcore', 'pop-film', 'salsa', 'dancehall', 'club', 'electro', 'samba', 'drum-and-bass', 'heavy-metal', 'house', 'chicago-house', 'funk', 'alt-rock', 'sleep', 'dubstep', 'gospel', 'acoustic', 'rock', 'ska', 'opera', 'black-metal', 'romance', 'emo', 'tango', 'punk', 'disco', 'classical', 'sertanejo', 'afrobeat', 'garage', 'forro', 'trance', 'minimal-techno', 'comedy', 'piano']\n"
     ]
    }
   ],
   "execution_count": 19
  },
  {
   "metadata": {},
   "cell_type": "markdown",
   "source": "**Remarks for genre's unique values:** The distinct values in the genre column are single-valued entries, including words with hyphens such as \"black-metal\", \"alt-rock\", \"new-age\", etc. These hyphenated values are treated as single entities and do not represent multi-valued genres. Therefore, we can safely proceed with encoding this column using StringIndexer without needing to split multi-valued genres.",
   "id": "7fe764a9dbfe5c22"
  },
  {
   "metadata": {
    "ExecuteTime": {
     "end_time": "2024-12-05T04:08:37.869256Z",
     "start_time": "2024-12-05T04:08:35.223228Z"
    }
   },
   "cell_type": "code",
   "source": [
    "# Encoding genre feature\n",
    "\n",
    "from pyspark.ml.feature import StringIndexer, OneHotEncoder\n",
    "\n",
    "# StringIndexer: Converts genre into numerical indices\n",
    "genre_indexer = StringIndexer(inputCol=\"genre\", outputCol=\"genre_index\")\n",
    "spotify_df_filtered = genre_indexer.fit(spotify_df_filtered).transform(spotify_df_filtered)\n",
    "\n",
    "# OneHotEncoder: Converts indices into one-hot encoded vectors\n",
    "genre_encoder = OneHotEncoder(inputCol=\"genre_index\", outputCol=\"genre_onehot\", dropLast=False)\n",
    "spotify_df_encoded = genre_encoder.fit(spotify_df_filtered).transform(spotify_df_filtered)\n",
    "\n",
    "# show the results\n",
    "spotify_df_encoded.select(\"genre\", \"genre_index\", \"genre_onehot\").show(5, truncate=False)\n"
   ],
   "id": "e6fb56a7db2a374c",
   "outputs": [
    {
     "name": "stdout",
     "output_type": "stream",
     "text": [
      "+--------+-----------+--------------+\n",
      "|genre   |genre_index|genre_onehot  |\n",
      "+--------+-----------+--------------+\n",
      "|acoustic|3.0        |(82,[3],[1.0])|\n",
      "|acoustic|3.0        |(82,[3],[1.0])|\n",
      "|acoustic|3.0        |(82,[3],[1.0])|\n",
      "|acoustic|3.0        |(82,[3],[1.0])|\n",
      "|acoustic|3.0        |(82,[3],[1.0])|\n",
      "+--------+-----------+--------------+\n",
      "only showing top 5 rows\n",
      "\n"
     ]
    }
   ],
   "execution_count": 20
  },
  {
   "metadata": {},
   "cell_type": "markdown",
   "source": "*Note:* For `genre_onehot` column, the `(82,[3],[1.0])` format means that the vector is sparse, with 82 possible genres (total unique categories), and the index `3` corresponds to the genre `acoustic`.",
   "id": "294a672b0c1f06e7"
  },
  {
   "metadata": {
    "ExecuteTime": {
     "end_time": "2024-12-05T04:08:38.267960Z",
     "start_time": "2024-12-05T04:08:37.925995Z"
    }
   },
   "cell_type": "code",
   "source": [
    "# Optional: Show expanded one-hot encoding for better readability\n",
    "# by converting sparse vector to array\n",
    "\n",
    "from pyspark.ml.functions import vector_to_array\n",
    "\n",
    "spotify_df_encoded = spotify_df_encoded.withColumn(\"genre_onehot_array\", vector_to_array(col(\"genre_onehot\")))\n",
    "\n",
    "spotify_df_encoded.select(\"genre\", \"genre_index\", \"genre_onehot_array\").show(5, truncate=False)"
   ],
   "id": "acfa0392f6fad6ea",
   "outputs": [
    {
     "name": "stdout",
     "output_type": "stream",
     "text": [
      "+--------+-----------+--------------------------------------------------------------------------------------------------------------------------------------------------------------------------------------------------------------------------------------------------------------------------------------------------------------------------------------------------------------------------------------------------------------------------+\n",
      "|genre   |genre_index|genre_onehot_array                                                                                                                                                                                                                                                                                                                                                                                                        |\n",
      "+--------+-----------+--------------------------------------------------------------------------------------------------------------------------------------------------------------------------------------------------------------------------------------------------------------------------------------------------------------------------------------------------------------------------------------------------------------------------+\n",
      "|acoustic|3.0        |[0.0, 0.0, 0.0, 1.0, 0.0, 0.0, 0.0, 0.0, 0.0, 0.0, 0.0, 0.0, 0.0, 0.0, 0.0, 0.0, 0.0, 0.0, 0.0, 0.0, 0.0, 0.0, 0.0, 0.0, 0.0, 0.0, 0.0, 0.0, 0.0, 0.0, 0.0, 0.0, 0.0, 0.0, 0.0, 0.0, 0.0, 0.0, 0.0, 0.0, 0.0, 0.0, 0.0, 0.0, 0.0, 0.0, 0.0, 0.0, 0.0, 0.0, 0.0, 0.0, 0.0, 0.0, 0.0, 0.0, 0.0, 0.0, 0.0, 0.0, 0.0, 0.0, 0.0, 0.0, 0.0, 0.0, 0.0, 0.0, 0.0, 0.0, 0.0, 0.0, 0.0, 0.0, 0.0, 0.0, 0.0, 0.0, 0.0, 0.0, 0.0, 0.0]|\n",
      "|acoustic|3.0        |[0.0, 0.0, 0.0, 1.0, 0.0, 0.0, 0.0, 0.0, 0.0, 0.0, 0.0, 0.0, 0.0, 0.0, 0.0, 0.0, 0.0, 0.0, 0.0, 0.0, 0.0, 0.0, 0.0, 0.0, 0.0, 0.0, 0.0, 0.0, 0.0, 0.0, 0.0, 0.0, 0.0, 0.0, 0.0, 0.0, 0.0, 0.0, 0.0, 0.0, 0.0, 0.0, 0.0, 0.0, 0.0, 0.0, 0.0, 0.0, 0.0, 0.0, 0.0, 0.0, 0.0, 0.0, 0.0, 0.0, 0.0, 0.0, 0.0, 0.0, 0.0, 0.0, 0.0, 0.0, 0.0, 0.0, 0.0, 0.0, 0.0, 0.0, 0.0, 0.0, 0.0, 0.0, 0.0, 0.0, 0.0, 0.0, 0.0, 0.0, 0.0, 0.0]|\n",
      "|acoustic|3.0        |[0.0, 0.0, 0.0, 1.0, 0.0, 0.0, 0.0, 0.0, 0.0, 0.0, 0.0, 0.0, 0.0, 0.0, 0.0, 0.0, 0.0, 0.0, 0.0, 0.0, 0.0, 0.0, 0.0, 0.0, 0.0, 0.0, 0.0, 0.0, 0.0, 0.0, 0.0, 0.0, 0.0, 0.0, 0.0, 0.0, 0.0, 0.0, 0.0, 0.0, 0.0, 0.0, 0.0, 0.0, 0.0, 0.0, 0.0, 0.0, 0.0, 0.0, 0.0, 0.0, 0.0, 0.0, 0.0, 0.0, 0.0, 0.0, 0.0, 0.0, 0.0, 0.0, 0.0, 0.0, 0.0, 0.0, 0.0, 0.0, 0.0, 0.0, 0.0, 0.0, 0.0, 0.0, 0.0, 0.0, 0.0, 0.0, 0.0, 0.0, 0.0, 0.0]|\n",
      "|acoustic|3.0        |[0.0, 0.0, 0.0, 1.0, 0.0, 0.0, 0.0, 0.0, 0.0, 0.0, 0.0, 0.0, 0.0, 0.0, 0.0, 0.0, 0.0, 0.0, 0.0, 0.0, 0.0, 0.0, 0.0, 0.0, 0.0, 0.0, 0.0, 0.0, 0.0, 0.0, 0.0, 0.0, 0.0, 0.0, 0.0, 0.0, 0.0, 0.0, 0.0, 0.0, 0.0, 0.0, 0.0, 0.0, 0.0, 0.0, 0.0, 0.0, 0.0, 0.0, 0.0, 0.0, 0.0, 0.0, 0.0, 0.0, 0.0, 0.0, 0.0, 0.0, 0.0, 0.0, 0.0, 0.0, 0.0, 0.0, 0.0, 0.0, 0.0, 0.0, 0.0, 0.0, 0.0, 0.0, 0.0, 0.0, 0.0, 0.0, 0.0, 0.0, 0.0, 0.0]|\n",
      "|acoustic|3.0        |[0.0, 0.0, 0.0, 1.0, 0.0, 0.0, 0.0, 0.0, 0.0, 0.0, 0.0, 0.0, 0.0, 0.0, 0.0, 0.0, 0.0, 0.0, 0.0, 0.0, 0.0, 0.0, 0.0, 0.0, 0.0, 0.0, 0.0, 0.0, 0.0, 0.0, 0.0, 0.0, 0.0, 0.0, 0.0, 0.0, 0.0, 0.0, 0.0, 0.0, 0.0, 0.0, 0.0, 0.0, 0.0, 0.0, 0.0, 0.0, 0.0, 0.0, 0.0, 0.0, 0.0, 0.0, 0.0, 0.0, 0.0, 0.0, 0.0, 0.0, 0.0, 0.0, 0.0, 0.0, 0.0, 0.0, 0.0, 0.0, 0.0, 0.0, 0.0, 0.0, 0.0, 0.0, 0.0, 0.0, 0.0, 0.0, 0.0, 0.0, 0.0, 0.0]|\n",
      "+--------+-----------+--------------------------------------------------------------------------------------------------------------------------------------------------------------------------------------------------------------------------------------------------------------------------------------------------------------------------------------------------------------------------------------------------------------------------+\n",
      "only showing top 5 rows\n",
      "\n"
     ]
    }
   ],
   "execution_count": 21
  },
  {
   "metadata": {},
   "cell_type": "markdown",
   "source": [
    "*Note:* For `genre_onehot_array` column, the `[0.0, 0.0, 0.0, 1.0, 0.0, ...]` format represents a dense vector with 82 possible genres. For example, the `1.0` at the 3rd index (0-based indexing) corresponds to the genre `acoustic`, as indicated by the `genre_index` of `3.0`.\n",
    "All other indices are `0.0`, indicating the absence of other genres."
   ],
   "id": "f786fd4b96049cd3"
  },
  {
   "metadata": {
    "ExecuteTime": {
     "end_time": "2024-12-05T04:08:38.511950Z",
     "start_time": "2024-12-05T04:08:38.325124Z"
    }
   },
   "cell_type": "code",
   "source": [
    "# review the dataframe\n",
    "# note that there are 3 new columns: genre_index, genre_onehot, genre_onehot_array\n",
    "spotify_df_encoded.show(5)"
   ],
   "id": "f2cae413370e5d87",
   "outputs": [
    {
     "name": "stdout",
     "output_type": "stream",
     "text": [
      "+-------------+----------------+--------------------+----------+----+--------+------------+------+---+--------+----+-----------+------------+----------------+--------+-------+-------+-----------+-----------+--------------+--------------------+\n",
      "|  artist_name|      track_name|            track_id|popularity|year|   genre|danceability|energy|key|loudness|mode|speechiness|acousticness|instrumentalness|liveness|valence|  tempo|duration_ms|genre_index|  genre_onehot|  genre_onehot_array|\n",
      "+-------------+----------------+--------------------+----------+----+--------+------------+------+---+--------+----+-----------+------------+----------------+--------+-------+-------+-----------+-----------+--------------+--------------------+\n",
      "|   Jason Mraz| I Won't Give Up|53QF56cjZA9RTuuMZ...|        68|2012|acoustic|       0.483| 0.303|  4| -10.058|   1|     0.0429|       0.694|             0.0|   0.115|  0.139|133.406|   240166.0|        3.0|(82,[3],[1.0])|[0.0, 0.0, 0.0, 1...|\n",
      "|   Jason Mraz|93 Million Miles|1s8tP3jP4GZcyHDsj...|        50|2012|acoustic|       0.572| 0.454|  3| -10.286|   1|     0.0258|       0.477|         1.37E-5|  0.0974|  0.515|140.182|   216387.0|        3.0|(82,[3],[1.0])|[0.0, 0.0, 0.0, 1...|\n",
      "|Joshua Hyslop|Do Not Let Me Go|7BRCa8MPiyuvr2VU3...|        57|2012|acoustic|       0.409| 0.234|  3| -13.711|   1|     0.0323|       0.338|          5.0E-5|  0.0895|  0.145|139.832|   158960.0|        3.0|(82,[3],[1.0])|[0.0, 0.0, 0.0, 1...|\n",
      "| Boyce Avenue|        Fast Car|63wsZUhUZLlh1Osyr...|        58|2012|acoustic|       0.392| 0.251| 10|  -9.845|   1|     0.0363|       0.807|             0.0|  0.0797|  0.508|204.961|   304293.0|        3.0|(82,[3],[1.0])|[0.0, 0.0, 0.0, 1...|\n",
      "| Andrew Belle|Sky's Still Blue|6nXIYClvJAfi6ujLi...|        54|2012|acoustic|        0.43| 0.791|  6|  -5.419|   0|     0.0302|      0.0726|          0.0193|    0.11|  0.217|171.864|   244320.0|        3.0|(82,[3],[1.0])|[0.0, 0.0, 0.0, 1...|\n",
      "+-------------+----------------+--------------------+----------+----+--------+------------+------+---+--------+----+-----------+------------+----------------+--------+-------+-------+-----------+-----------+--------------+--------------------+\n",
      "only showing top 5 rows\n",
      "\n"
     ]
    }
   ],
   "execution_count": 22
  },
  {
   "metadata": {},
   "cell_type": "markdown",
   "source": [
    "### 2. Encoding `artist_name` feature\n",
    "\n",
    "We will use the Frequency (or Popularity) Encoding technique because `artist_name` has a high cardinality (64,159 distinct values). ALso, frequency encoding reduces the feature space while retaining meaningful patterns (e.g., more popular artists might appear in recommendations more frequently)."
   ],
   "id": "7894b2e0ea1ce44a"
  },
  {
   "metadata": {
    "ExecuteTime": {
     "end_time": "2024-12-05T04:08:43.568039Z",
     "start_time": "2024-12-05T04:08:38.567347Z"
    }
   },
   "cell_type": "code",
   "source": [
    "# from pyspark.sql.functions import col, count, lit\n",
    "\n",
    "# Calculate the frequency of each artist\n",
    "artist_frequency = spotify_df_encoded.groupBy(\"artist_name\").count() \\\n",
    "                             .withColumnRenamed(\"count\", \"artist_frequency\")\n",
    "\n",
    "# Join the frequency data back to the main DataFrame\n",
    "spotify_df_encoded = spotify_df_encoded.join(artist_frequency, on=\"artist_name\", how=\"left\")\n",
    "\n",
    "# Show the results\n",
    "spotify_df_encoded.select(\"artist_name\", \"artist_frequency\").distinct().show(5, truncate=False)\n"
   ],
   "id": "7eca80a35e165d1b",
   "outputs": [
    {
     "name": "stdout",
     "output_type": "stream",
     "text": [
      "+-----------------+----------------+\n",
      "|artist_name      |artist_frequency|\n",
      "+-----------------+----------------+\n",
      "|Ramshackle Glory |31              |\n",
      "|Zach Berkman     |17              |\n",
      "|The Black Keys   |209             |\n",
      "|Black Pistol Fire|77              |\n",
      "|Jane's Addiction |55              |\n",
      "+-----------------+----------------+\n",
      "only showing top 5 rows\n",
      "\n"
     ]
    }
   ],
   "execution_count": 23
  },
  {
   "metadata": {},
   "cell_type": "markdown",
   "source": "*Note:* The frequencies (31, 17, etc.) reflect the occurrence count of each artist in the dataset, which is intuitive and interpretable.",
   "id": "668a2a1c6bb67ebe"
  },
  {
   "metadata": {
    "ExecuteTime": {
     "end_time": "2024-12-05T04:08:45.993705Z",
     "start_time": "2024-12-05T04:08:43.593874Z"
    }
   },
   "cell_type": "code",
   "source": [
    "# review the dataframe\n",
    "# note that there are one new columns: artist_frequency\n",
    "\n",
    "spotify_df_encoded.show(5)"
   ],
   "id": "3be9f0500a7ae216",
   "outputs": [
    {
     "name": "stdout",
     "output_type": "stream",
     "text": [
      "+-------------+----------------+--------------------+----------+----+--------+------------+------+---+--------+----+-----------+------------+----------------+--------+-------+-------+-----------+-----------+--------------+--------------------+----------------+\n",
      "|  artist_name|      track_name|            track_id|popularity|year|   genre|danceability|energy|key|loudness|mode|speechiness|acousticness|instrumentalness|liveness|valence|  tempo|duration_ms|genre_index|  genre_onehot|  genre_onehot_array|artist_frequency|\n",
      "+-------------+----------------+--------------------+----------+----+--------+------------+------+---+--------+----+-----------+------------+----------------+--------+-------+-------+-----------+-----------+--------------+--------------------+----------------+\n",
      "|   Jason Mraz| I Won't Give Up|53QF56cjZA9RTuuMZ...|        68|2012|acoustic|       0.483| 0.303|  4| -10.058|   1|     0.0429|       0.694|             0.0|   0.115|  0.139|133.406|   240166.0|        3.0|(82,[3],[1.0])|[0.0, 0.0, 0.0, 1...|             193|\n",
      "|   Jason Mraz|93 Million Miles|1s8tP3jP4GZcyHDsj...|        50|2012|acoustic|       0.572| 0.454|  3| -10.286|   1|     0.0258|       0.477|         1.37E-5|  0.0974|  0.515|140.182|   216387.0|        3.0|(82,[3],[1.0])|[0.0, 0.0, 0.0, 1...|             193|\n",
      "| Boyce Avenue|        Fast Car|63wsZUhUZLlh1Osyr...|        58|2012|acoustic|       0.392| 0.251| 10|  -9.845|   1|     0.0363|       0.807|             0.0|  0.0797|  0.508|204.961|   304293.0|        3.0|(82,[3],[1.0])|[0.0, 0.0, 0.0, 1...|             337|\n",
      "| Andrew Belle|Sky's Still Blue|6nXIYClvJAfi6ujLi...|        54|2012|acoustic|        0.43| 0.791|  6|  -5.419|   0|     0.0302|      0.0726|          0.0193|    0.11|  0.217|171.864|   244320.0|        3.0|(82,[3],[1.0])|[0.0, 0.0, 0.0, 1...|              66|\n",
      "|Chris Smither|   What They Say|24NvptbNKGs6sPy1V...|        48|2012|acoustic|       0.566|  0.57|  2|   -6.42|   1|     0.0329|       0.688|         1.73E-6|  0.0943|   0.96| 83.403|   166240.0|        3.0|(82,[3],[1.0])|[0.0, 0.0, 0.0, 1...|              78|\n",
      "+-------------+----------------+--------------------+----------+----+--------+------------+------+---+--------+----+-----------+------------+----------------+--------+-------+-------+-----------+-----------+--------------+--------------------+----------------+\n",
      "only showing top 5 rows\n",
      "\n"
     ]
    }
   ],
   "execution_count": 24
  },
  {
   "metadata": {
    "ExecuteTime": {
     "end_time": "2024-12-05T04:08:46.035183Z",
     "start_time": "2024-12-05T04:08:46.030583Z"
    }
   },
   "cell_type": "code",
   "source": [
    "## OPTIONAL: use one-hot encoding method - this is not recommended because:\n",
    "## Treats all artists equally, which may lose meaningful patterns like artist popularity.\n",
    "## May introduce an artificial ordinal relationship between artists (e.g., artist_index = 0 vs. artist_index = 1).\n",
    "\n",
    "# ## Check the unique values in the 'artist_name' column \n",
    "# \n",
    "# # group by 'genre', count occurrences, and order by count in descending order\n",
    "# artist_name_counts = spotify_df.groupBy(\"artist_name\").count().orderBy(col(\"count\").desc())\n",
    "# \n",
    "# artist_name_counts.show(10)\n",
    "# \n",
    "# # encode the 'artist_name' column\n",
    "# artist_indexer = StringIndexer(inputCol=\"artist_name\", outputCol=\"artist_index\")\n",
    "# spotify_df_encoded = artist_indexer.fit(spotify_df_encoded).transform(spotify_df_encoded)\n",
    "# \n",
    "# # View the distinct values of artist_name and their corresponding artist_index\n",
    "# distinct_artist_mapping = spotify_df_encoded.select(\"artist_name\", \"artist_index\").distinct()\n",
    "# \n",
    "# distinct_artist_mapping = distinct_artist_mapping.orderBy(\"artist_index\")\n",
    "# \n",
    "# distinct_artist_mapping.show(10, truncate=False)"
   ],
   "id": "ae2baf9e1ebbbfab",
   "outputs": [],
   "execution_count": 25
  },
  {
   "metadata": {
    "ExecuteTime": {
     "end_time": "2024-12-05T04:08:46.197461Z",
     "start_time": "2024-12-05T04:08:46.179960Z"
    }
   },
   "cell_type": "code",
   "source": [
    "## OPTIONAL: \n",
    "# # drop the original categorical columns to avoid redundancy (optional)\n",
    "# spotify_df_transformed = spotify_df_encoded.drop(\"genre\", \"artist_name\")\n",
    "# \n",
    "# # Verify encoding\n",
    "# spotify_df_transformed.show(5)"
   ],
   "id": "40bb4ccfdd242ea1",
   "outputs": [],
   "execution_count": 26
  },
  {
   "metadata": {
    "ExecuteTime": {
     "end_time": "2024-12-05T04:08:46.236298Z",
     "start_time": "2024-12-05T04:08:46.232798Z"
    }
   },
   "cell_type": "code",
   "source": "# spotify_df_encoded.show(5)",
   "id": "c5cdcc8f53b389f4",
   "outputs": [],
   "execution_count": 27
  },
  {
   "metadata": {
    "ExecuteTime": {
     "end_time": "2024-12-05T04:08:46.258510Z",
     "start_time": "2024-12-05T04:08:46.253851Z"
    }
   },
   "cell_type": "code",
   "source": [
    "## OPTIONAL: Save the encoded dataframe to a Parquet file for reuse\n",
    "# spotify_df_encoded.write.parquet(\"./spotify_df_encoded.parquet\", mode=\"overwrite\")"
   ],
   "id": "99932de75b7f1fdf",
   "outputs": [],
   "execution_count": 28
  },
  {
   "metadata": {},
   "cell_type": "markdown",
   "source": [
    "## Normalize Numerical Features\n",
    "\n",
    "We will normalize numerical features like `danceability`, `energy`, `tempo`, etc., to have values between 0 and 1 using `MinMaxScaler`. \n",
    "\n",
    "Min-Max scaling is typically the best choice for recommendation systems, especially when working with similarity metrics like cosine similarity or Euclidean distance.\n",
    "\n",
    "There are a few reasons why we should do scaling for these numerical values:\n",
    "\n",
    "* Scaling helps to standardize different scales across features. For example, features like `loudness` (negative values) and `tempo` (positive, larger range) have much different scales.\n",
    "* Scaling also improves model performance because many ML algorithms, such as neural networks and matrix factorization (used in recommendation systems), will converge faster and perform better with normalized input data."
   ],
   "id": "9016b2d4022533ca"
  },
  {
   "metadata": {
    "ExecuteTime": {
     "end_time": "2024-12-05T04:09:06.461839Z",
     "start_time": "2024-12-05T04:09:02.479389Z"
    }
   },
   "cell_type": "code",
   "source": [
    "from pyspark.ml.feature import MinMaxScaler\n",
    "from pyspark.ml.feature import VectorAssembler\n",
    "from pyspark.sql.functions import udf, col\n",
    "from pyspark.sql.types import DoubleType\n",
    "\n",
    "# define numerical features to normalize\n",
    "numerical_features = [\n",
    "    'danceability', 'energy', 'key', 'loudness', 'mode', \n",
    "    'speechiness', 'acousticness', 'instrumentalness', 'liveness', \n",
    "    'valence', 'tempo', 'duration_ms', 'popularity'\n",
    "]\n",
    "\n",
    "# assemble numerical features into a single vector column\n",
    "assembler = VectorAssembler(inputCols=numerical_features, outputCol=\"numerical_vector\")\n",
    "spotify_df_vectorized = assembler.transform(spotify_df_encoded)\n",
    "\n",
    "# apply Min-Max Scaler\n",
    "scaler = MinMaxScaler(inputCol=\"numerical_vector\", outputCol=\"scaled_features\")\n",
    "scaler_model = scaler.fit(spotify_df_vectorized)\n",
    "spotify_df_normalized = scaler_model.transform(spotify_df_vectorized)\n",
    "\n",
    "# extract scaled features into separate columns\n",
    "def extract_column(index):\n",
    "    \"\"\"UDF to extract specific column from dense vector.\"\"\"\n",
    "    return udf(lambda vector: float(vector[index]), returnType=DoubleType())\n",
    "\n",
    "# loop through features and create new columns for each scaled feature\n",
    "for i, feature in enumerate(numerical_features):\n",
    "    spotify_df_normalized = spotify_df_normalized.withColumn(f\"{feature}_scaled\", extract_column(i)(col(\"scaled_features\")))\n",
    "\n",
    "# drop original and intermediate columns\n",
    "columns_to_drop = numerical_features + [\"numerical_vector\", \"scaled_features\"]\n",
    "spotify_df_normalized = spotify_df_normalized.drop(*columns_to_drop)\n",
    "\n",
    "# show the scaled features\n",
    "spotify_df_normalized.select(*[f\"{feature}_scaled\" for feature in numerical_features]).show(5, truncate=False)\n"
   ],
   "id": "736e692ca3b3026",
   "outputs": [
    {
     "name": "stdout",
     "output_type": "stream",
     "text": [
      "+-------------------+-------------------+-------------------+------------------+-----------+--------------------+-------------------+-----------------------+-------------------+--------------+------------------+--------------------+------------------+\n",
      "|danceability_scaled|energy_scaled      |key_scaled         |loudness_scaled   |mode_scaled|speechiness_scaled  |acousticness_scaled|instrumentalness_scaled|liveness_scaled    |valence_scaled|tempo_scaled      |duration_ms_scaled  |popularity_scaled |\n",
      "+-------------------+-------------------+-------------------+------------------+-----------+--------------------+-------------------+-----------------------+-------------------+--------------+------------------+--------------------+------------------+\n",
      "|0.4864048584089521 |0.30300000309944153|0.36363636363636365|0.747479463142717 |1.0        |0.044181255481279255|0.6967871600104057 |0.0                    |0.11500000208616257|0.139         |0.5336389734062985|0.03969260582199785 |0.68              |\n",
      "|0.5760322693433735 |0.45399999618530273|0.2727272727272727 |0.7439320296331687|1.0        |0.026570546300807508|0.4789156646333863 |1.3699999726668466E-5  |0.09740000218153   |0.515         |0.5607437366561967|0.03572839656829746 |0.5               |\n",
      "|0.41188320370473186|0.23399999737739563|0.2727272727272727 |0.6906428792145304|1.0        |0.0332646741752967  |0.3393574320020812 |4.999999873689376E-5   |0.08950000256299973|0.145         |0.55934367301916  |0.026154712022595276|0.5700000000000001|\n",
      "|0.39476334464300983|0.25099998712539673|0.9090909090909092 |0.7507934933449268|1.0        |0.03738413925339014 |0.8102409517784657 |0.0                    |0.07970000058412552|0.508         |0.8198669628256798|0.050383250794959075|0.58              |\n",
      "|0.4330312384170854 |0.7910000085830688 |0.5454545454545454 |0.8196570766792185|0.0        |0.031101957119400253|0.07289156646333864|0.019300000742077827   |0.10999999940395355|0.217         |0.6874752533655576|0.04038512128689845 |0.54              |\n",
      "+-------------------+-------------------+-------------------+------------------+-----------+--------------------+-------------------+-----------------------+-------------------+--------------+------------------+--------------------+------------------+\n",
      "only showing top 5 rows\n",
      "\n"
     ]
    }
   ],
   "execution_count": 29
  },
  {
   "metadata": {},
   "cell_type": "markdown",
   "source": "*Note:* The values in new columns (e.g. `energy_scaled`) are normalized to be between 0 and 1.",
   "id": "1c3e94c27a7f9404"
  },
  {
   "metadata": {
    "ExecuteTime": {
     "end_time": "2024-12-05T04:09:14.453183Z",
     "start_time": "2024-12-05T04:09:08.108658Z"
    }
   },
   "cell_type": "code",
   "source": [
    "# review the dataframe\n",
    "spotify_df_normalized.show(5)"
   ],
   "id": "87d63e10be1a96ae",
   "outputs": [
    {
     "name": "stdout",
     "output_type": "stream",
     "text": [
      "+----------------+--------------------+--------------------+----+--------+-----------+--------------+--------------------+----------------+-------------------+-------------------+------------------+------------------+-----------+-------------------+--------------------+-----------------------+-------------------+--------------+-------------------+--------------------+-----------------+\n",
      "|     artist_name|          track_name|            track_id|year|   genre|genre_index|  genre_onehot|  genre_onehot_array|artist_frequency|danceability_scaled|      energy_scaled|        key_scaled|   loudness_scaled|mode_scaled| speechiness_scaled| acousticness_scaled|instrumentalness_scaled|    liveness_scaled|valence_scaled|       tempo_scaled|  duration_ms_scaled|popularity_scaled|\n",
      "+----------------+--------------------+--------------------+----+--------+-----------+--------------+--------------------+----------------+-------------------+-------------------+------------------+------------------+-----------+-------------------+--------------------+-----------------------+-------------------+--------------+-------------------+--------------------+-----------------+\n",
      "|Ramshackle Glory|Song for Next May...|2JHs7pn8zHCwL4hCy...|2012|acoustic|        3.0|(82,[3],[1.0])|[0.0, 0.0, 0.0, 1...|              31| 0.3373615490005117| 0.8659999966621399|               0.0|0.7592886466651556|        1.0|0.06951596456058885| 0.12248996221268961|   1.249999968422344E-6|0.32199999690055847|         0.327|0.46281695147587454|0.046551242976902926|             0.17|\n",
      "|Ramshackle Glory|The Club Hits of ...|18qlQ8KWzzZKEQypO...|2012|acoustic|        3.0|(82,[3],[1.0])|[0.0, 0.0, 0.0, 1...|              31|0.48539779198698657|0.12399999797344208|0.4545454545454546|0.7055638496410849|        1.0|0.03717816638314049|  0.7259036103120107|   0.003169999923557043|0.30000001192092896|         0.213|   0.50410213518555|0.015498576125521012|             0.16|\n",
      "|Ramshackle Glory|           Last Days|1BLPLW4oYH8fkr3ub...|2012|acoustic|        3.0|(82,[3],[1.0])|[0.0, 0.0, 0.0, 1...|              31|0.34642499673615035| 0.7310000061988831|0.8181818181818182|0.7811333043743088|        0.0|0.03377960826919593|0.002500000121558...|   8.549999620299786E-6|  0.367000013589859|         0.801| 0.4250479185177368| 0.02148231651591035|             0.16|\n",
      "|Ramshackle Glory|           Last Song|1xTo7rP8pe1bVJ6Ow...|2012|acoustic|        3.0|(82,[3],[1.0])|[0.0, 0.0, 0.0, 1...|              31|0.30412889729903314| 0.3709999918937683|0.6363636363636364|0.7117562782781721|        1.0| 0.0435633368705303| 0.01194779153718166|   0.004759999923408...| 0.2070000022649765|         0.364| 0.3290452289892643| 0.03733098471564688|             0.14|\n",
      "|Ramshackle Glory|Gospel Music for ...|0zHGgFV3okHxtVIM6...|2012|acoustic|        3.0|(82,[3],[1.0])|[0.0, 0.0, 0.0, 1...|              31|0.26384693070584686|  0.718999981880188|0.4545454545454546|0.7721247157112847|        1.0|0.04294541825978134|0.010000000486232674|    0.05299999937415123| 0.2980000078678131|         0.722|0.23324252675291626|0.039651595036161176|             0.14|\n",
      "+----------------+--------------------+--------------------+----+--------+-----------+--------------+--------------------+----------------+-------------------+-------------------+------------------+------------------+-----------+-------------------+--------------------+-----------------------+-------------------+--------------+-------------------+--------------------+-----------------+\n",
      "only showing top 5 rows\n",
      "\n"
     ]
    }
   ],
   "execution_count": 30
  },
  {
   "metadata": {},
   "cell_type": "markdown",
   "source": "",
   "id": "87625ea92125a74d"
  },
  {
   "metadata": {},
   "cell_type": "markdown",
   "source": [
    "## Group time periods (bucketing)\n",
    "\n",
    "We want to group the years because bucketing years into ranges helps identify patterns or trends in specific time periods."
   ],
   "id": "c38d41695e5f24bc"
  },
  {
   "metadata": {
    "ExecuteTime": {
     "end_time": "2024-12-05T04:27:28.724148Z",
     "start_time": "2024-12-05T04:27:27.648591Z"
    }
   },
   "cell_type": "code",
   "source": [
    "from pyspark.ml.feature import Bucketizer\n",
    "\n",
    "# define time period splits and labels\n",
    "splits = [1999, 2004, 2009, 2014, 2019, 2024]\n",
    "bucket_labels = [\"2000-2004\", \"2005-2009\", \"2010-2014\", \"2015-2019\", \"2020-2023\"]\n",
    "\n",
    "# add a new column for bucket indexes\n",
    "bucketizer = Bucketizer(\n",
    "    splits=splits, \n",
    "    inputCol=\"year\", \n",
    "    outputCol=\"year_bucket\"\n",
    ")\n",
    "spotify_df_bucket = bucketizer.transform(spotify_df_normalized)\n",
    "\n",
    "# map bucket indices to labels\n",
    "from pyspark.sql.functions import udf\n",
    "from pyspark.sql.types import StringType\n",
    "\n",
    "# create a UDF to map bucket indices to bucket labels\n",
    "bucket_label_udf = udf(lambda idx: bucket_labels[int(idx)], StringType())\n",
    "spotify_df_bucket = spotify_df_bucket.withColumn(\"year_period\", bucket_label_udf(col(\"year_bucket\")))\n",
    "\n",
    "# drop intermediate column (year_bucket) if no longer needed\n",
    "spotify_df_bucket = spotify_df_bucket.drop(\"year_bucket\")\n",
    "\n",
    "# show results\n",
    "spotify_df_bucket.select(\"track_name\", \"year\", \"year_period\").show(10)\n"
   ],
   "id": "95bb20eeff5d6e43",
   "outputs": [
    {
     "name": "stdout",
     "output_type": "stream",
     "text": [
      "+--------------------+----+-----------+\n",
      "|          track_name|year|year_period|\n",
      "+--------------------+----+-----------+\n",
      "|     I Won't Give Up|2012|  2010-2014|\n",
      "|    93 Million Miles|2012|  2010-2014|\n",
      "|    Do Not Let Me Go|2012|  2010-2014|\n",
      "|            Fast Car|2012|  2010-2014|\n",
      "|    Sky's Still Blue|2012|  2010-2014|\n",
      "|       What They Say|2012|  2010-2014|\n",
      "|Walking in a Wint...|2012|  2010-2014|\n",
      "|       Dancing Shoes|2012|  2010-2014|\n",
      "|Living in the Moment|2012|  2010-2014|\n",
      "|              Heaven|2012|  2010-2014|\n",
      "+--------------------+----+-----------+\n",
      "only showing top 10 rows\n",
      "\n"
     ]
    }
   ],
   "execution_count": 32
  },
  {
   "metadata": {
    "ExecuteTime": {
     "end_time": "2024-12-05T04:30:01.387783Z",
     "start_time": "2024-12-05T04:29:38.751236Z"
    }
   },
   "cell_type": "code",
   "source": [
    "# StringIndexer: Convert year_period into numerical indices\n",
    "period_indexer = StringIndexer(inputCol=\"year_period\", outputCol=\"year_period_index\")\n",
    "spotify_df_bucket = period_indexer.fit(spotify_df_bucket).transform(spotify_df_bucket)\n",
    "\n",
    "# OneHotEncoder: Convert indices into one-hot encoded vectors\n",
    "period_encoder = OneHotEncoder(inputCol=\"year_period_index\", outputCol=\"year_period_onehot\", dropLast=False)\n",
    "spotify_df_bucket = period_encoder.fit(spotify_df_bucket).transform(spotify_df_bucket)\n",
    "\n",
    "# Show the results\n",
    "spotify_df_bucket.select(\"track_name\", \"year\", \"year_period\", \"year_period_index\", \"year_period_onehot\").show(10, truncate=False)\n"
   ],
   "id": "b283e411e11cb2a7",
   "outputs": [
    {
     "name": "stdout",
     "output_type": "stream",
     "text": [
      "+------------------------------+----+-----------+-----------------+------------------+\n",
      "|track_name                    |year|year_period|year_period_index|year_period_onehot|\n",
      "+------------------------------+----+-----------+-----------------+------------------+\n",
      "|I Won't Give Up               |2012|2010-2014  |2.0              |(5,[2],[1.0])     |\n",
      "|93 Million Miles              |2012|2010-2014  |2.0              |(5,[2],[1.0])     |\n",
      "|Do Not Let Me Go              |2012|2010-2014  |2.0              |(5,[2],[1.0])     |\n",
      "|Fast Car                      |2012|2010-2014  |2.0              |(5,[2],[1.0])     |\n",
      "|Sky's Still Blue              |2012|2010-2014  |2.0              |(5,[2],[1.0])     |\n",
      "|What They Say                 |2012|2010-2014  |2.0              |(5,[2],[1.0])     |\n",
      "|Walking in a Winter Wonderland|2012|2010-2014  |2.0              |(5,[2],[1.0])     |\n",
      "|Dancing Shoes                 |2012|2010-2014  |2.0              |(5,[2],[1.0])     |\n",
      "|Living in the Moment          |2012|2010-2014  |2.0              |(5,[2],[1.0])     |\n",
      "|Heaven                        |2012|2010-2014  |2.0              |(5,[2],[1.0])     |\n",
      "+------------------------------+----+-----------+-----------------+------------------+\n",
      "only showing top 10 rows\n",
      "\n"
     ]
    }
   ],
   "execution_count": 33
  },
  {
   "metadata": {},
   "cell_type": "markdown",
   "source": "*Note:* For the `year_period_onehot` column, the `(5, [2], [1.0])` format indicates a sparse one-hot encoded vector with 5 possible time periods (buckets), where the index `2` corresponds to the time period `2010-2014`.",
   "id": "c83af00afcf7acbc"
  },
  {
   "metadata": {
    "ExecuteTime": {
     "end_time": "2024-12-05T04:37:22.624984Z",
     "start_time": "2024-12-05T04:37:22.606342Z"
    }
   },
   "cell_type": "code",
   "source": [
    "# rename the finalized dataframe before moving on to EDA\n",
    "spotify_df_final = spotify_df_bucket"
   ],
   "id": "b523ff860615fb8d",
   "outputs": [],
   "execution_count": 35
  },
  {
   "metadata": {
    "ExecuteTime": {
     "end_time": "2024-12-05T04:37:29.933215Z",
     "start_time": "2024-12-05T04:37:23.603834Z"
    }
   },
   "cell_type": "code",
   "source": "spotify_df_final.show(5)",
   "id": "2f3512ede737abc4",
   "outputs": [
    {
     "name": "stdout",
     "output_type": "stream",
     "text": [
      "+----------------+--------------------+--------------------+----+--------+-----------+--------------+--------------------+----------------+-------------------+-------------------+------------------+------------------+-----------+-------------------+--------------------+-----------------------+-------------------+--------------+-------------------+--------------------+-----------------+-----------+-----------------+------------------+\n",
      "|     artist_name|          track_name|            track_id|year|   genre|genre_index|  genre_onehot|  genre_onehot_array|artist_frequency|danceability_scaled|      energy_scaled|        key_scaled|   loudness_scaled|mode_scaled| speechiness_scaled| acousticness_scaled|instrumentalness_scaled|    liveness_scaled|valence_scaled|       tempo_scaled|  duration_ms_scaled|popularity_scaled|year_period|year_period_index|year_period_onehot|\n",
      "+----------------+--------------------+--------------------+----+--------+-----------+--------------+--------------------+----------------+-------------------+-------------------+------------------+------------------+-----------+-------------------+--------------------+-----------------------+-------------------+--------------+-------------------+--------------------+-----------------+-----------+-----------------+------------------+\n",
      "|Ramshackle Glory|Song for Next May...|2JHs7pn8zHCwL4hCy...|2012|acoustic|        3.0|(82,[3],[1.0])|[0.0, 0.0, 0.0, 1...|              31| 0.3373615490005117| 0.8659999966621399|               0.0|0.7592886466651556|        1.0|0.06951596456058885| 0.12248996221268961|   1.249999968422344E-6|0.32199999690055847|         0.327|0.46281695147587454|0.046551242976902926|             0.17|  2010-2014|              2.0|     (5,[2],[1.0])|\n",
      "|Ramshackle Glory|The Club Hits of ...|18qlQ8KWzzZKEQypO...|2012|acoustic|        3.0|(82,[3],[1.0])|[0.0, 0.0, 0.0, 1...|              31|0.48539779198698657|0.12399999797344208|0.4545454545454546|0.7055638496410849|        1.0|0.03717816638314049|  0.7259036103120107|   0.003169999923557043|0.30000001192092896|         0.213|   0.50410213518555|0.015498576125521012|             0.16|  2010-2014|              2.0|     (5,[2],[1.0])|\n",
      "|Ramshackle Glory|           Last Days|1BLPLW4oYH8fkr3ub...|2012|acoustic|        3.0|(82,[3],[1.0])|[0.0, 0.0, 0.0, 1...|              31|0.34642499673615035| 0.7310000061988831|0.8181818181818182|0.7811333043743088|        0.0|0.03377960826919593|0.002500000121558...|   8.549999620299786E-6|  0.367000013589859|         0.801| 0.4250479185177368| 0.02148231651591035|             0.16|  2010-2014|              2.0|     (5,[2],[1.0])|\n",
      "|Ramshackle Glory|           Last Song|1xTo7rP8pe1bVJ6Ow...|2012|acoustic|        3.0|(82,[3],[1.0])|[0.0, 0.0, 0.0, 1...|              31|0.30412889729903314| 0.3709999918937683|0.6363636363636364|0.7117562782781721|        1.0| 0.0435633368705303| 0.01194779153718166|   0.004759999923408...| 0.2070000022649765|         0.364| 0.3290452289892643| 0.03733098471564688|             0.14|  2010-2014|              2.0|     (5,[2],[1.0])|\n",
      "|Ramshackle Glory|Gospel Music for ...|0zHGgFV3okHxtVIM6...|2012|acoustic|        3.0|(82,[3],[1.0])|[0.0, 0.0, 0.0, 1...|              31|0.26384693070584686|  0.718999981880188|0.4545454545454546|0.7721247157112847|        1.0|0.04294541825978134|0.010000000486232674|    0.05299999937415123| 0.2980000078678131|         0.722|0.23324252675291626|0.039651595036161176|             0.14|  2010-2014|              2.0|     (5,[2],[1.0])|\n",
      "+----------------+--------------------+--------------------+----+--------+-----------+--------------+--------------------+----------------+-------------------+-------------------+------------------+------------------+-----------+-------------------+--------------------+-----------------------+-------------------+--------------+-------------------+--------------------+-----------------+-----------+-----------------+------------------+\n",
      "only showing top 5 rows\n",
      "\n"
     ]
    }
   ],
   "execution_count": 36
  },
  {
   "metadata": {
    "ExecuteTime": {
     "end_time": "2024-12-05T04:37:29.979568Z",
     "start_time": "2024-12-05T04:37:29.961494Z"
    }
   },
   "cell_type": "code",
   "source": [
    "# print schema to verify data types\n",
    "spotify_df_final.printSchema()\n"
   ],
   "id": "df69b82d73071808",
   "outputs": [
    {
     "name": "stdout",
     "output_type": "stream",
     "text": [
      "root\n",
      " |-- artist_name: string (nullable = true)\n",
      " |-- track_name: string (nullable = true)\n",
      " |-- track_id: string (nullable = true)\n",
      " |-- year: integer (nullable = true)\n",
      " |-- genre: string (nullable = true)\n",
      " |-- genre_index: double (nullable = false)\n",
      " |-- genre_onehot: vector (nullable = true)\n",
      " |-- genre_onehot_array: array (nullable = false)\n",
      " |    |-- element: double (containsNull = false)\n",
      " |-- artist_frequency: long (nullable = true)\n",
      " |-- danceability_scaled: double (nullable = true)\n",
      " |-- energy_scaled: double (nullable = true)\n",
      " |-- key_scaled: double (nullable = true)\n",
      " |-- loudness_scaled: double (nullable = true)\n",
      " |-- mode_scaled: double (nullable = true)\n",
      " |-- speechiness_scaled: double (nullable = true)\n",
      " |-- acousticness_scaled: double (nullable = true)\n",
      " |-- instrumentalness_scaled: double (nullable = true)\n",
      " |-- liveness_scaled: double (nullable = true)\n",
      " |-- valence_scaled: double (nullable = true)\n",
      " |-- tempo_scaled: double (nullable = true)\n",
      " |-- duration_ms_scaled: double (nullable = true)\n",
      " |-- popularity_scaled: double (nullable = true)\n",
      " |-- year_period: string (nullable = true)\n",
      " |-- year_period_index: double (nullable = false)\n",
      " |-- year_period_onehot: vector (nullable = true)\n",
      "\n"
     ]
    }
   ],
   "execution_count": 37
  },
  {
   "metadata": {},
   "cell_type": "markdown",
   "source": [
    "*Note:* Reviewing the schema of the finalized dataframe:\n",
    "* One-hot encoded features (`genre_onehot`, `year_period_onehot`) are represented as `vectors`. This `vector` type is suitable for recommendation systems and similarity algorithms.\n",
    "* Scaled numerical features (`*_scaled`) are of `double` type, ensuring compatibility with analysis and modeling tasks."
   ],
   "id": "4684137a2ce48ab0"
  },
  {
   "metadata": {},
   "cell_type": "code",
   "source": "",
   "id": "504e19883aa0b5e5",
   "outputs": [],
   "execution_count": null
  },
  {
   "metadata": {},
   "cell_type": "code",
   "source": "",
   "id": "7767afd79e73038c",
   "outputs": [],
   "execution_count": null
  },
  {
   "metadata": {},
   "cell_type": "code",
   "source": "",
   "id": "4df259b618c8865e",
   "outputs": [],
   "execution_count": null
  },
  {
   "metadata": {},
   "cell_type": "code",
   "source": "",
   "id": "f11feec1ea4f4c72",
   "outputs": [],
   "execution_count": null
  },
  {
   "metadata": {},
   "cell_type": "markdown",
   "source": "",
   "id": "4b7469c978508953"
  }
 ],
 "metadata": {
  "kernelspec": {
   "display_name": "Python 3",
   "language": "python",
   "name": "python3"
  },
  "language_info": {
   "codemirror_mode": {
    "name": "ipython",
    "version": 2
   },
   "file_extension": ".py",
   "mimetype": "text/x-python",
   "name": "python",
   "nbconvert_exporter": "python",
   "pygments_lexer": "ipython2",
   "version": "2.7.6"
  }
 },
 "nbformat": 4,
 "nbformat_minor": 5
}
