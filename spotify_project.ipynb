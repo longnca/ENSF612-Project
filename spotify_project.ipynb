{
 "cells": [
  {
   "metadata": {},
   "cell_type": "markdown",
   "source": [
    "# Spotify Recommendation System Project\n",
    "\n",
    "**Purpose:** Build a scalable music recommendation system using PySpark and Spotify datasets.\n",
    "\n",
    "**Group members:**\n",
    "\n",
    "* Raakin Bhatti\n",
    "* Aneesh Bulusu\n",
    "* Walid Farhat\n",
    "* Long Nguyen\n",
    "* Strahinja Radakovic"
   ],
   "id": "cb7cf3c7af7c3e4"
  },
  {
   "metadata": {},
   "cell_type": "markdown",
   "source": [
    "# Introduction\n",
    "\n",
    "**What is our big data problem? What is our goal?**\n",
    "* Build a scalable music recommendation system using a large dataset of songs and their audio features from Spotify.\n",
    "* Given the names of some songs, the algorithm will predict and recommend songs similar to the input songs based on their audio features (e.g. danceability, energy, acoustics, etc.) and categorical data like genres.\n",
    "* Use Spark/PySpark to process large-scale data and develop machine learning algorithms.\n",
    "\n",
    "**Why we chose building Recommendation Systems:**\n",
    "* Recommendation systems are widely used in modern digital platforms to enhance user experience (e.g., Spotify, Netflix, Amazon).\n",
    "* Help users discover relevant content, which helps to increase engagement and satisfaction.\n",
    "\n",
    "**Why Spotify dataset?**\n",
    "* Spotify is a leading music streaming platform which has rich data on songs, audio features, and artists.\n",
    "* The dataset provides an opportunity to analyze music preferences and recommend personalized songs or playlists.\n",
    "\n",
    "**What is a big data challenge?**\n",
    "* Spotify data involves thousands of users, songs, and interactions, requiring storage and processing at scale.\n",
    "* PySpark is well-suited for handling and analyzing big data with its distributed computing capabilities.\n",
    "\n",
    "**Broader applications:**\n",
    "* Insights from the project can extend to other recommendation systems.\n",
    "* Demonstrates the integration of big data tools and machine learning for real-world applications.\n"
   ],
   "id": "9fc38fc12d35af55"
  },
  {
   "metadata": {},
   "cell_type": "markdown",
   "source": [
    "**Filtering method:**\n",
    "\n",
    "Our group's recommendation system will use Content-Based Filtering method instead of Collaborative filtering. Content-Based Filtering method analyzes the audio characteristics of songs you’ve previously enjoyed, then the model will make personalized suggestions. We do not use Collaborative filtering or user-based filtering method becuase we cannot collect the information related to Spotify's users such as `user_id`.\n",
    "\n",
    "**What is the Target Variable for this project?**\n",
    "\n",
    "In a content-based recommendation system, we do not have a traditional \"target variable\" like in supervised learning. Instead, the goal is to calculate similarity metrics between songs based on their features. However, you can think of the **song similarity score** (e.g., cosine similarity, Euclidean distance) as the implicit target metric for creating recommendations.\n",
    "\n",
    "* The goal is to recommend songs similar to the input songs based on their audio features and genres.\n",
    "* For our recommendation system, the focus is on matching songs based on audio features like danceability, energy, acousticness, etc., and categorical data like genre.\n",
    "\n",
    "**What are the interesting Features of the dataset?**\n",
    "\n",
    "*Numerical Features (Audio Characteristics):* \n",
    "\n",
    "* danceability: Indicates how suitable a track is for dancing.\n",
    "* energy: Represents the intensity and activity level of a track.\n",
    "* loudness: Measures the decibel level of the track.\n",
    "* acousticness: Likelihood of the track being acoustic.\n",
    "* instrumentalness: Determines the degree to which a track is instrumental.\n",
    "* valence: Describes the musical positiveness conveyed by a track.\n",
    "* tempo: The speed of the song in beats per minute (BPM).\n",
    "* duration_ms: Song duration, which can help differentiate between shorter and longer tracks.\n",
    "\n",
    "*Categorical Features:*\n",
    "\n",
    "* genre: A key factor in identifying similar songs. \n",
    "* key: Musical key in which the song is composed.\n",
    "* mode: Indicates whether the song is in a major or minor scale.\n",
    "\n",
    "*Meta Information (Optional):*\n",
    "\n",
    "* popularity: While not directly linked to audio characteristics, it can serve as a secondary ranking factor in your recommendations.\n",
    "* year: Could help in filtering songs by era if needed."
   ],
   "id": "568fb4a87c9e4ee7"
  },
  {
   "metadata": {},
   "cell_type": "markdown",
   "source": [
    "# Setting up Spark\n",
    "\n",
    "This section is optional. In case that you have not installed Spark, Hadoop, etc. in your local machine, then this part will help setting up Spark in the Jupyter Notebook for running."
   ],
   "id": "9654b2daf089473"
  },
  {
   "metadata": {
    "ExecuteTime": {
     "end_time": "2024-12-05T00:24:35.927645Z",
     "start_time": "2024-12-05T00:24:35.913658Z"
    }
   },
   "cell_type": "code",
   "source": [
    "## OPTIONAL: Setting up Spark in Jupyter Notebook\n",
    "\n",
    "# !apt-get install openjdk-8-jdk-headless -qq > /dev/null\n",
    "# !wget https://dlcdn.apache.org/spark/spark-3.5.3/spark-3.5.3-bin-hadoop3.tgz\n",
    "# !tar -xvf spark-3.5.3-bin-hadoop3.tgz\n",
    "# !pip install findspark\n",
    "# \n",
    "# import os\n",
    "# os.environ[\"JAVA_HOME\"] = \"/usr/lib/jvm/java-8-openjdk-amd64\"\n",
    "# os.environ[\"SPARK_HOME\"] = \"/content/spark-3.5.3-bin-hadoop3\"\n",
    "# \n",
    "# import findspark\n",
    "# findspark.init()\n",
    "# findspark.find()"
   ],
   "id": "f7c6a9a9e21abfec",
   "outputs": [],
   "execution_count": 1
  },
  {
   "metadata": {
    "ExecuteTime": {
     "end_time": "2024-12-05T00:24:35.947301Z",
     "start_time": "2024-12-05T00:24:35.928931Z"
    }
   },
   "cell_type": "code",
   "source": [
    "## OPTIONAL: Test if PySpark is ready to go\n",
    "\n",
    "# from pyspark.sql import SparkSession\n",
    "# \n",
    "# spark = SparkSession.builder.appName(\"Test\").getOrCreate()\n",
    "# print(f\"Spark version:\", spark.version)\n",
    "# \n",
    "# spark.stop()\n",
    "\n",
    "## expected result: 3.5.3 or similar"
   ],
   "id": "4e85d88f72d3ae04",
   "outputs": [],
   "execution_count": 2
  },
  {
   "metadata": {},
   "cell_type": "markdown",
   "source": [
    "# Data Collection\n",
    "\n",
    "**Required Tasks:**\n",
    "* Load the dataset into a PySpark DataFrame.\n",
    "* Verify the dataset schema and check if the data is loaded correctly.\n",
    "\n",
    "**Output:** A PySpark DataFrame loaded and ready for processing, with the schema verified.\n"
   ],
   "id": "7bfca0ce77f2b1db"
  },
  {
   "metadata": {},
   "cell_type": "markdown",
   "source": [
    "### How we get the dataset?\n",
    "\n",
    "We extracted the dataset from Spotify using Spotify API and the `Spotipy` library in Python.\n",
    "\n",
    "Attached the Python files for extraction and transformation (from JSON to CSV). Please note that these files are for references only, because in order to run those files, you will have to set up a virtual environment."
   ],
   "id": "8a58a580889aaca5"
  },
  {
   "metadata": {},
   "cell_type": "markdown",
   "source": "### Loading datasets",
   "id": "f5e7046225ee57ac"
  },
  {
   "metadata": {
    "ExecuteTime": {
     "end_time": "2024-12-05T00:24:35.966090Z",
     "start_time": "2024-12-05T00:24:35.951640Z"
    }
   },
   "cell_type": "code",
   "source": [
    "import findspark\n",
    "findspark.init()\n",
    "findspark.find()"
   ],
   "id": "cefc2a953d7d634c",
   "outputs": [
    {
     "data": {
      "text/plain": [
       "'C:\\\\Program Files\\\\spark-3.5.3'"
      ]
     },
     "execution_count": 3,
     "metadata": {},
     "output_type": "execute_result"
    }
   ],
   "execution_count": 3
  },
  {
   "metadata": {
    "ExecuteTime": {
     "end_time": "2024-12-05T00:24:37.375602Z",
     "start_time": "2024-12-05T00:24:36.316465Z"
    }
   },
   "cell_type": "code",
   "source": [
    "# import libraries\n",
    "from pyspark.sql import SparkSession\n",
    "from pyspark.sql.functions import col, when, count, lit\n",
    "import pandas as pd\n",
    "import matplotlib.pyplot as plt"
   ],
   "id": "e6c0c9482a3b0e38",
   "outputs": [],
   "execution_count": 4
  },
  {
   "metadata": {
    "ExecuteTime": {
     "end_time": "2024-12-05T00:24:42.692337Z",
     "start_time": "2024-12-05T00:24:37.381392Z"
    }
   },
   "cell_type": "code",
   "source": [
    "# initialize a SparkSession\n",
    "spark = SparkSession.builder \\\n",
    "    .appName(\"SpotifyRecommendationSystem\") \\\n",
    "    .config(\"spark.executor.memory\", \"8g\") \\\n",
    "    .config(\"spark.driver.memory\", \"8g\") \\\n",
    "    .config(\"spark.executor.cores\", \"4\") \\\n",
    "    .getOrCreate()\n",
    "\n",
    "print(f\"Spark version:\", spark.version)"
   ],
   "id": "4fb75fbe68fad190",
   "outputs": [
    {
     "name": "stdout",
     "output_type": "stream",
     "text": [
      "Spark version: 3.5.3\n"
     ]
    }
   ],
   "execution_count": 5
  },
  {
   "metadata": {
    "ExecuteTime": {
     "end_time": "2024-12-05T00:24:52.718268Z",
     "start_time": "2024-12-05T00:24:42.731824Z"
    }
   },
   "cell_type": "code",
   "source": [
    "# load dataset into a DataFrame\n",
    "file_path = \"./dataset/spotify_dataset.csv\" # Note: The dataset file is too large (>250 MB) to commit to a GitHub repo.\n",
    "spotify_df = spark.read.csv(file_path, header=True, inferSchema=True)\n",
    "\n",
    "# display the first few rows\n",
    "spotify_df.show(5)\n"
   ],
   "id": "9bcc09d58d3b4dd0",
   "outputs": [
    {
     "name": "stdout",
     "output_type": "stream",
     "text": [
      "+---+-------------+----------------+--------------------+----------+----+--------+------------+------+---+--------+----+-----------+------------+----------------+--------+-------+-------+-----------+--------------+\n",
      "|_c0|  artist_name|      track_name|            track_id|popularity|year|   genre|danceability|energy|key|loudness|mode|speechiness|acousticness|instrumentalness|liveness|valence|  tempo|duration_ms|time_signature|\n",
      "+---+-------------+----------------+--------------------+----------+----+--------+------------+------+---+--------+----+-----------+------------+----------------+--------+-------+-------+-----------+--------------+\n",
      "|  0|   Jason Mraz| I Won't Give Up|53QF56cjZA9RTuuMZ...|        68|2012|acoustic|       0.483| 0.303|  4| -10.058|   1|     0.0429|       0.694|             0.0|   0.115|  0.139|133.406|   240166.0|           3.0|\n",
      "|  1|   Jason Mraz|93 Million Miles|1s8tP3jP4GZcyHDsj...|        50|2012|acoustic|       0.572| 0.454|  3| -10.286|   1|     0.0258|       0.477|        1.37e-05|  0.0974|  0.515|140.182|   216387.0|           4.0|\n",
      "|  2|Joshua Hyslop|Do Not Let Me Go|7BRCa8MPiyuvr2VU3...|        57|2012|acoustic|       0.409| 0.234|  3| -13.711|   1|     0.0323|       0.338|           5e-05|  0.0895|  0.145|139.832|   158960.0|           4.0|\n",
      "|  3| Boyce Avenue|        Fast Car|63wsZUhUZLlh1Osyr...|        58|2012|acoustic|       0.392| 0.251| 10|  -9.845|   1|     0.0363|       0.807|             0.0|  0.0797|  0.508|204.961|   304293.0|           4.0|\n",
      "|  4| Andrew Belle|Sky's Still Blue|6nXIYClvJAfi6ujLi...|        54|2012|acoustic|        0.43| 0.791|  6|  -5.419|   0|     0.0302|      0.0726|          0.0193|    0.11|  0.217|171.864|   244320.0|           4.0|\n",
      "+---+-------------+----------------+--------------------+----------+----+--------+------------+------+---+--------+----+-----------+------------+----------------+--------+-------+-------+-----------+--------------+\n",
      "only showing top 5 rows\n",
      "\n"
     ]
    }
   ],
   "execution_count": 6
  },
  {
   "metadata": {},
   "cell_type": "markdown",
   "source": [
    "# Data Inspection and Validation\n",
    "\n",
    "In this section, we will do the following tasks:\n",
    "\n",
    "* Check the data schema with column names and data types.\n",
    "* Convert data types if needed.\n",
    "* Check for the summary statistics of the dataset.\n",
    "* Check for missing values. Handle missing values properly.\n",
    "* Check for outliers. Handle the outliers.\n",
    "* Check for distinct values."
   ],
   "id": "ed3a962387bf81e8"
  },
  {
   "metadata": {
    "ExecuteTime": {
     "end_time": "2024-12-05T00:24:52.789419Z",
     "start_time": "2024-12-05T00:24:52.778990Z"
    }
   },
   "cell_type": "code",
   "source": [
    "# print schema to verify column names and data types\n",
    "spotify_df.printSchema()"
   ],
   "id": "4123d71c842833d3",
   "outputs": [
    {
     "name": "stdout",
     "output_type": "stream",
     "text": [
      "root\n",
      " |-- _c0: integer (nullable = true)\n",
      " |-- artist_name: string (nullable = true)\n",
      " |-- track_name: string (nullable = true)\n",
      " |-- track_id: string (nullable = true)\n",
      " |-- popularity: string (nullable = true)\n",
      " |-- year: string (nullable = true)\n",
      " |-- genre: string (nullable = true)\n",
      " |-- danceability: string (nullable = true)\n",
      " |-- energy: string (nullable = true)\n",
      " |-- key: string (nullable = true)\n",
      " |-- loudness: string (nullable = true)\n",
      " |-- mode: string (nullable = true)\n",
      " |-- speechiness: string (nullable = true)\n",
      " |-- acousticness: string (nullable = true)\n",
      " |-- instrumentalness: string (nullable = true)\n",
      " |-- liveness: string (nullable = true)\n",
      " |-- valence: double (nullable = true)\n",
      " |-- tempo: double (nullable = true)\n",
      " |-- duration_ms: double (nullable = true)\n",
      " |-- time_signature: double (nullable = true)\n",
      "\n"
     ]
    }
   ],
   "execution_count": 7
  },
  {
   "metadata": {},
   "cell_type": "markdown",
   "source": [
    "**Data type conversins:**\n",
    "\n",
    "From [Spotify's API documentation](https://developer.spotify.com/documentation/web-api/reference/get-audio-features) about track's audio features, each feature has its own meaning and data types. So we will convert the data types of features in our dataset to match Spotify's documentation."
   ],
   "id": "74c1c8744d12f801"
  },
  {
   "metadata": {
    "ExecuteTime": {
     "end_time": "2024-12-05T00:24:53.403791Z",
     "start_time": "2024-12-05T00:24:52.931289Z"
    }
   },
   "cell_type": "code",
   "source": [
    "# casting columns to their appropriate data types as per Spotify's documentation\n",
    "spotify_df = spotify_df \\\n",
    "    .withColumn(\"popularity\", col(\"popularity\").cast(\"int\")) \\\n",
    "    .withColumn(\"year\", col(\"year\").cast(\"int\")) \\\n",
    "    .withColumn(\"danceability\", col(\"danceability\").cast(\"float\")) \\\n",
    "    .withColumn(\"energy\", col(\"energy\").cast(\"float\")) \\\n",
    "    .withColumn(\"key\", col(\"key\").cast(\"int\")) \\\n",
    "    .withColumn(\"loudness\", col(\"loudness\").cast(\"float\")) \\\n",
    "    .withColumn(\"mode\", col(\"mode\").cast(\"int\")) \\\n",
    "    .withColumn(\"speechiness\", col(\"speechiness\").cast(\"float\")) \\\n",
    "    .withColumn(\"acousticness\", col(\"acousticness\").cast(\"float\")) \\\n",
    "    .withColumn(\"instrumentalness\", col(\"instrumentalness\").cast(\"float\")) \\\n",
    "    .withColumn(\"liveness\", col(\"liveness\").cast(\"float\")) \\\n",
    "    .withColumn(\"tempo\", col(\"tempo\").cast(\"float\")) \\\n",
    "    .withColumn(\"time_signature\", col(\"time_signature\").cast(\"int\"))\n",
    "\n",
    "# re-check the updated schema\n",
    "spotify_df.printSchema()\n"
   ],
   "id": "90e820975ec6874d",
   "outputs": [
    {
     "name": "stdout",
     "output_type": "stream",
     "text": [
      "root\n",
      " |-- _c0: integer (nullable = true)\n",
      " |-- artist_name: string (nullable = true)\n",
      " |-- track_name: string (nullable = true)\n",
      " |-- track_id: string (nullable = true)\n",
      " |-- popularity: integer (nullable = true)\n",
      " |-- year: integer (nullable = true)\n",
      " |-- genre: string (nullable = true)\n",
      " |-- danceability: float (nullable = true)\n",
      " |-- energy: float (nullable = true)\n",
      " |-- key: integer (nullable = true)\n",
      " |-- loudness: float (nullable = true)\n",
      " |-- mode: integer (nullable = true)\n",
      " |-- speechiness: float (nullable = true)\n",
      " |-- acousticness: float (nullable = true)\n",
      " |-- instrumentalness: float (nullable = true)\n",
      " |-- liveness: float (nullable = true)\n",
      " |-- valence: double (nullable = true)\n",
      " |-- tempo: float (nullable = true)\n",
      " |-- duration_ms: double (nullable = true)\n",
      " |-- time_signature: integer (nullable = true)\n",
      "\n"
     ]
    }
   ],
   "execution_count": 8
  },
  {
   "metadata": {
    "ExecuteTime": {
     "end_time": "2024-12-05T00:24:54.938624Z",
     "start_time": "2024-12-05T00:24:53.463528Z"
    }
   },
   "cell_type": "code",
   "source": [
    "# count total rows in the dataset\n",
    "total_rows = spotify_df.count()\n",
    "print(f\"Total rows in the dataset: {total_rows}\")"
   ],
   "id": "10707cba07e8edda",
   "outputs": [
    {
     "name": "stdout",
     "output_type": "stream",
     "text": [
      "Total rows in the dataset: 1159764\n"
     ]
    }
   ],
   "execution_count": 9
  },
  {
   "metadata": {},
   "cell_type": "markdown",
   "source": "Remarks: The dataset contains 1,159,764 rows, which is quite large, indicating the need for big data tools like PySpark.",
   "id": "de887a331b3feed2"
  },
  {
   "metadata": {},
   "cell_type": "markdown",
   "source": [
    "**Check for Summary Statistics:**\n",
    "\n",
    "Next, we want to check for the summary statistics of the dataset. In [Spark](https://spark.apache.org/docs/latest/api/python/reference/pyspark.sql/api/pyspark.sql.DataFrame.describe.html), if using `.describe()` method, it will by default calculate the stats for all columns including both numerical and non-numerical (string) columns. Therefore, we have to filter out the columns based on their data types as follows."
   ],
   "id": "40fe6fa2e6568d95"
  },
  {
   "metadata": {
    "ExecuteTime": {
     "end_time": "2024-12-05T00:24:59.855461Z",
     "start_time": "2024-12-05T00:24:54.977706Z"
    }
   },
   "cell_type": "code",
   "source": [
    "# filter numeric columns using dtypes\n",
    "numeric_columns = [name for name, dtype in spotify_df.dtypes if dtype in ('int', 'bigint', 'double', 'float', 'decimal')]\n",
    "\n",
    "# select only numeric columns\n",
    "numeric_df = spotify_df.select(*numeric_columns)\n",
    "\n",
    "# show summary statistics for numerical columns only\n",
    "numeric_df.describe().show()"
   ],
   "id": "9b3ddea969b36fb3",
   "outputs": [
    {
     "name": "stdout",
     "output_type": "stream",
     "text": [
      "+-------+-----------------+------------------+------------------+-----------------+------------------+------------------+------------------+-----------------+-------------------+-------------------+-------------------+-------------------+-------------------+------------------+------------------+------------------+\n",
      "|summary|              _c0|        popularity|              year|     danceability|            energy|               key|          loudness|             mode|        speechiness|       acousticness|   instrumentalness|           liveness|            valence|             tempo|       duration_ms|    time_signature|\n",
      "+-------+-----------------+------------------+------------------+-----------------+------------------+------------------+------------------+-----------------+-------------------+-------------------+-------------------+-------------------+-------------------+------------------+------------------+------------------+\n",
      "|  count|          1159764|           1158091|           1159141|          1158580|           1159356|           1159602|           1159670|          1159731|            1159748|            1159756|            1159761|            1159762|            1159764|           1159764|           1159764|           1159764|\n",
      "|   mean|659061.3219129064|18.393719491818864|2010.1450030669264|1.151689557821435|0.8750431817828228| 5.421848185843074| -8.90125644459297|0.642995660200512|0.10187417859253778|0.32384287579000465|0.25511809159462906|0.22280301037863148|0.45543146363409936| 121.2262622110439|249223.50955903548|219.83662710689416|\n",
      "| stddev|428549.1535705906|15.888212092912061| 60.52526727918657|35.12214257953176|21.720800387148365|17.144522698291876|11.435647099557297|7.026148812516287| 5.2942646995895775| 3.2571918436446836|  2.666910391613436| 0.2258207729737689| 0.2759459120284293|30.103371885007203| 149607.9337131288| 8673.273461566454|\n",
      "|    min|                0|                 0|                 0|              0.0|               0.0|                 0|             -58.1|              -43|            -36.843|            -36.639|            -38.845|            -29.312|            -29.777|           -24.073|           -17.417|               -22|\n",
      "|    max|          1473395|               100|              2023|           2023.0|            2023.0|              2023|            2023.0|             2023|             2017.0|             2017.0|             2009.0|               10.0|               11.0|           249.993|         6000495.0|           1358453|\n",
      "+-------+-----------------+------------------+------------------+-----------------+------------------+------------------+------------------+-----------------+-------------------+-------------------+-------------------+-------------------+-------------------+------------------+------------------+------------------+\n",
      "\n"
     ]
    }
   ],
   "execution_count": 10
  },
  {
   "metadata": {},
   "cell_type": "markdown",
   "source": [
    "**Remarks for summary statistics:**\n",
    "\n",
    "* `popularity`: Ranges from 0 to 100, indicating a reasonable scale for popularity.\n",
    "* `year`: The dataset includes tracks from 0 to 2023. The value 0 seems anomalous and might need further investigation.\n",
    "* Other features like `danceability`, `energy`, `tempo`, and `duration_ms` have a wide range of values, which may need normalization or standardization for machine learning.\n",
    "* Potential outliers: Columns like `tempo` (min = -24.073) and `loudness` (min = -58.1) have unusual values that might indicate outliers or data entry issues."
   ],
   "id": "ce1bd7a6f443e685"
  },
  {
   "metadata": {
    "ExecuteTime": {
     "end_time": "2024-12-05T00:25:01.526953Z",
     "start_time": "2024-12-05T00:24:59.941676Z"
    }
   },
   "cell_type": "code",
   "source": [
    "# check for missing values in each column\n",
    "missing_values = spotify_df.select([\n",
    "    count(when(col(c).isNull(), c)).alias(c) for c in spotify_df.columns\n",
    "])\n",
    "missing_values.show()"
   ],
   "id": "8566923377d65c27",
   "outputs": [
    {
     "name": "stdout",
     "output_type": "stream",
     "text": [
      "+---+-----------+----------+--------+----------+----+-----+------------+------+---+--------+----+-----------+------------+----------------+--------+-------+-----+-----------+--------------+\n",
      "|_c0|artist_name|track_name|track_id|popularity|year|genre|danceability|energy|key|loudness|mode|speechiness|acousticness|instrumentalness|liveness|valence|tempo|duration_ms|time_signature|\n",
      "+---+-----------+----------+--------+----------+----+-----+------------+------+---+--------+----+-----------+------------+----------------+--------+-------+-----+-----------+--------------+\n",
      "|  0|          0|         0|       0|      1673| 623|    0|        1184|   408|162|      94|  33|         16|           8|               3|       2|      0|    0|          0|             0|\n",
      "+---+-----------+----------+--------+----------+----+-----+------------+------+---+--------+----+-----------+------------+----------------+--------+-------+-----+-----------+--------------+\n",
      "\n"
     ]
    }
   ],
   "execution_count": 11
  },
  {
   "metadata": {},
   "cell_type": "markdown",
   "source": [
    "**Remarks for missing values:**\n",
    "\n",
    "* Columns with missing data: popularity (1,673 missing values), year (623), and others such as  danceability, energy, key, loudness, and mode.\n",
    "* Given the dataset has over 1.15M rows, the proportion of missing data is extremely small (less than 0.1% for all affected columns).\n",
    "* In this case, we will drop rows with missing values in features that are critical for our recommendation system."
   ],
   "id": "96848fd8d14259c1"
  },
  {
   "metadata": {
    "ExecuteTime": {
     "end_time": "2024-12-05T00:25:02.920008Z",
     "start_time": "2024-12-05T00:25:01.576580Z"
    }
   },
   "cell_type": "code",
   "source": [
    "# drop rows with missing data in critical columns\n",
    "columns_to_check = ['popularity', 'year', 'danceability', 'energy', 'key', 'loudness', 'mode', 'speechiness', 'acousticness', 'instrumentalness', 'liveness']\n",
    "\n",
    "spotify_df_clean = spotify_df.na.drop(subset=columns_to_check)\n",
    "\n",
    "# verify the number of rows after dropping\n",
    "cleaned_rows = spotify_df_clean.count()\n",
    "print(f\"Rows after dropping missing data: {cleaned_rows}\")\n",
    "\n",
    "dropped_rows = total_rows - cleaned_rows\n",
    "print(f\"Number of rows dropped: {dropped_rows}\")\n"
   ],
   "id": "47e94b8710ab756",
   "outputs": [
    {
     "name": "stdout",
     "output_type": "stream",
     "text": [
      "Rows after dropping missing data: 1158091\n",
      "Number of rows dropped: 1673\n"
     ]
    }
   ],
   "execution_count": 12
  },
  {
   "metadata": {},
   "cell_type": "markdown",
   "source": [
    "**Anomalies and Outliers**:\n",
    "\n",
    "We will investigate the folloiwng things:\n",
    "\n",
    "* Check for distinct values of `year` column to make sure no abnormal values (such as 1500).\n",
    "* \n",
    "\n"
   ],
   "id": "2ba0ba961fd386ff"
  },
  {
   "metadata": {
    "ExecuteTime": {
     "end_time": "2024-12-05T00:25:05.033482Z",
     "start_time": "2024-12-05T00:25:02.939472Z"
    }
   },
   "cell_type": "code",
   "source": [
    "# get distinct years and their frequencies\n",
    "year_distribution = spotify_df_clean.groupBy(\"year\").count().orderBy(\"year\")\n",
    "\n",
    "year_distribution.show(50)"
   ],
   "id": "b1e523b5392689d7",
   "outputs": [
    {
     "name": "stdout",
     "output_type": "stream",
     "text": [
      "+----+-----+\n",
      "|year|count|\n",
      "+----+-----+\n",
      "|2000|43944|\n",
      "|2001|42316|\n",
      "|2002|42084|\n",
      "|2003|42250|\n",
      "|2004|43293|\n",
      "|2005|43708|\n",
      "|2006|45419|\n",
      "|2007|45920|\n",
      "|2008|47336|\n",
      "|2009|46810|\n",
      "|2010|46818|\n",
      "|2011|46381|\n",
      "|2012|54725|\n",
      "|2013|53105|\n",
      "|2014|53120|\n",
      "|2015|51569|\n",
      "|2016|40246|\n",
      "|2017|56171|\n",
      "|2018|56541|\n",
      "|2019|55739|\n",
      "|2020|55035|\n",
      "|2021|53529|\n",
      "|2022|53637|\n",
      "|2023|38395|\n",
      "+----+-----+\n",
      "\n"
     ]
    }
   ],
   "execution_count": 13
  },
  {
   "metadata": {},
   "cell_type": "markdown",
   "source": "Remarks for `year`: The years range from 2000 to 2023, which are expected and normal.",
   "id": "a854ab265f1643f9"
  },
  {
   "metadata": {},
   "cell_type": "markdown",
   "source": [
    "**Check for anomalies in numerical columns:**\n",
    "\n",
    "Compare data against the value ranges specified in the [Spotify documentation](https://developer.spotify.com/documentation/web-api/reference/get-audio-features):\n",
    "* acousticness: [0, 1]\n",
    "* danceability: [0, 1]\n",
    "* energy: [0, 1] \n",
    "* instrumentalness: [0, 1]\n",
    "* key: [-1, 11]\n",
    "* liveness: [0, 1]\n",
    "* mode: {0, 1}\n",
    "* speechiness: [0, 1]\n",
    "* tempo: Typically [1, 250], (note: this is a typical range; Spotify docs don't strictly enforce this.)\n",
    "* time_signature: [3, 7]\n",
    "* valence: [0, 1]"
   ],
   "id": "24aac1c3616ec577"
  },
  {
   "metadata": {
    "ExecuteTime": {
     "end_time": "2024-12-05T00:25:14.856204Z",
     "start_time": "2024-12-05T00:25:05.080793Z"
    }
   },
   "cell_type": "code",
   "source": [
    "# define the range checks for each feature\n",
    "range_checks = {\n",
    "    \"acousticness\": (0, 1),\n",
    "    \"danceability\": (0, 1),\n",
    "    \"energy\": (0, 1),\n",
    "    \"instrumentalness\": (0, 1),\n",
    "    \"key\": (-1, 11),\n",
    "    \"liveness\": (0, 1),\n",
    "    \"mode\": (0, 1),\n",
    "    \"speechiness\": (0, 1),\n",
    "    \"tempo\": (1, 350),\n",
    "    \"time_signature\": (3, 7),\n",
    "    \"valence\": (0, 1),\n",
    "}\n",
    "\n",
    "# identify anomalies in each feature\n",
    "anomalies = {}\n",
    "for feature, (min_val, max_val) in range_checks.items():\n",
    "    anomalies[feature] = spotify_df_clean.filter((col(feature) < min_val) | (col(feature) > max_val)).count()\n",
    "\n",
    "# print the anomalies count for each feature\n",
    "for feature, count in anomalies.items():\n",
    "    print(f\"Number of anomalies in {feature}: {count}\")\n"
   ],
   "id": "99b55d3ed6c61adf",
   "outputs": [
    {
     "name": "stdout",
     "output_type": "stream",
     "text": [
      "Number of anomalies in acousticness: 0\n",
      "Number of anomalies in danceability: 0\n",
      "Number of anomalies in energy: 0\n",
      "Number of anomalies in instrumentalness: 0\n",
      "Number of anomalies in key: 0\n",
      "Number of anomalies in liveness: 0\n",
      "Number of anomalies in mode: 0\n",
      "Number of anomalies in speechiness: 0\n",
      "Number of anomalies in tempo: 1198\n",
      "Number of anomalies in time_signature: 13816\n",
      "Number of anomalies in valence: 0\n"
     ]
    }
   ],
   "execution_count": 14
  },
  {
   "metadata": {},
   "cell_type": "markdown",
   "source": [
    "From the results:\n",
    "\n",
    "* No Anomalies:\n",
    "    * Most features (acousticness, danceability, energy, instrumentalness, etc.) have no anomalies. These are clean and can be used as-is.\n",
    "* tempo Anomalies:\n",
    "    * 1,198 anomalies fall outside the range [1, 250]. These might include invalid or outlier values (e.g., extremely high or low BPM).\n",
    "* time_signature Anomalies:\n",
    "    * 13,816 anomalies fall outside the range [3, 7]. These could represent tracks with unusual time signatures, potentially errors or special cases."
   ],
   "id": "875d6ac86a79c69f"
  },
  {
   "metadata": {
    "ExecuteTime": {
     "end_time": "2024-12-05T00:25:16.283861Z",
     "start_time": "2024-12-05T00:25:14.880537Z"
    }
   },
   "cell_type": "code",
   "source": [
    "# Show rows with tempo anomalies\n",
    "tempo_anomalies = spotify_df_clean.filter((col(\"tempo\") < 1) | (col(\"tempo\") > 350))\n",
    "\n",
    "# Descriptive statistics for tempo anomalies\n",
    "tempo_anomalies.describe(\"tempo\").show()\n"
   ],
   "id": "d00741f3b2fbb380",
   "outputs": [
    {
     "name": "stdout",
     "output_type": "stream",
     "text": [
      "+-------+-----+\n",
      "|summary|tempo|\n",
      "+-------+-----+\n",
      "|  count| 1198|\n",
      "|   mean|  0.0|\n",
      "| stddev|  0.0|\n",
      "|    min|  0.0|\n",
      "|    max|  0.0|\n",
      "+-------+-----+\n",
      "\n"
     ]
    }
   ],
   "execution_count": 15
  },
  {
   "metadata": {},
   "cell_type": "markdown",
   "source": [
    "**Remarks for Tempo:**\n",
    "\n",
    "* As you can see, the min and max values of tempo anomalies are 0.0, which means these values are missing in the dataset (i.e. 0.0 == missing values). We can eliminate them since the quantity is very small in the dataset."
   ],
   "id": "249dfb69963fa5e4"
  },
  {
   "metadata": {
    "ExecuteTime": {
     "end_time": "2024-12-05T00:25:17.859248Z",
     "start_time": "2024-12-05T00:25:16.380764Z"
    }
   },
   "cell_type": "code",
   "source": [
    "# Show rows with time_signature anomalies\n",
    "time_signature_anomalies = spotify_df_clean.filter((col(\"time_signature\") < 3) | (col(\"time_signature\") > 7))\n",
    "\n",
    "# Descriptive statistics for time_signature anomalies\n",
    "time_signature_anomalies.describe(\"time_signature\").show()\n"
   ],
   "id": "979f1c940d61d660",
   "outputs": [
    {
     "name": "stdout",
     "output_type": "stream",
     "text": [
      "+-------+-------------------+\n",
      "|summary|     time_signature|\n",
      "+-------+-------------------+\n",
      "|  count|              13816|\n",
      "|   mean| 0.9111899247249565|\n",
      "| stddev|0.28447970650303633|\n",
      "|    min|                  0|\n",
      "|    max|                  1|\n",
      "+-------+-------------------+\n",
      "\n"
     ]
    }
   ],
   "execution_count": 16
  },
  {
   "metadata": {},
   "cell_type": "markdown",
   "source": "",
   "id": "baef496f7594381b"
  },
  {
   "metadata": {},
   "cell_type": "markdown",
   "source": [
    "# Data Filtering\n",
    "\n",
    "In this section, we will identify and retain only the relevant features for building the recommendation system. We will consider dropping irrelevant or redundant columns like `_c0` that may not contribute to the model.\n",
    "\n",
    "* Since `time_signature` feature has more than 13K values of anamolies and has little importance to finding similarities between songs, we will drop this feature.\n",
    "* `_c0` feature is only the index of the dataset and will contribute to the model so we will drop it."
   ],
   "id": "8aa5692fb3749b56"
  },
  {
   "metadata": {
    "ExecuteTime": {
     "end_time": "2024-12-05T00:25:18.067847Z",
     "start_time": "2024-12-05T00:25:17.891682Z"
    }
   },
   "cell_type": "code",
   "source": [
    "# retain only relevant features for the recommendation system\n",
    "selected_columns = [\n",
    "    'artist_name', 'track_name', 'track_id', 'popularity', 'year', \n",
    "    'genre', 'danceability', 'energy', 'key', 'loudness', 'mode', \n",
    "    'speechiness', 'acousticness', 'instrumentalness', 'liveness', \n",
    "    'valence', 'tempo', 'duration_ms'\n",
    "]\n",
    "\n",
    "# create a filtered DataFrame\n",
    "spotify_df_filtered = spotify_df_clean.select(*selected_columns)\n",
    "\n",
    "# show the schema of the filtered DataFrame\n",
    "spotify_df_filtered.printSchema()\n",
    "\n",
    "# verify the filtering process\n",
    "spotify_df_filtered.show(5)\n"
   ],
   "id": "d129fe4ebe4819e8",
   "outputs": [
    {
     "name": "stdout",
     "output_type": "stream",
     "text": [
      "root\n",
      " |-- artist_name: string (nullable = true)\n",
      " |-- track_name: string (nullable = true)\n",
      " |-- track_id: string (nullable = true)\n",
      " |-- popularity: integer (nullable = true)\n",
      " |-- year: integer (nullable = true)\n",
      " |-- genre: string (nullable = true)\n",
      " |-- danceability: float (nullable = true)\n",
      " |-- energy: float (nullable = true)\n",
      " |-- key: integer (nullable = true)\n",
      " |-- loudness: float (nullable = true)\n",
      " |-- mode: integer (nullable = true)\n",
      " |-- speechiness: float (nullable = true)\n",
      " |-- acousticness: float (nullable = true)\n",
      " |-- instrumentalness: float (nullable = true)\n",
      " |-- liveness: float (nullable = true)\n",
      " |-- valence: double (nullable = true)\n",
      " |-- tempo: float (nullable = true)\n",
      " |-- duration_ms: double (nullable = true)\n",
      "\n",
      "+-------------+----------------+--------------------+----------+----+--------+------------+------+---+--------+----+-----------+------------+----------------+--------+-------+-------+-----------+\n",
      "|  artist_name|      track_name|            track_id|popularity|year|   genre|danceability|energy|key|loudness|mode|speechiness|acousticness|instrumentalness|liveness|valence|  tempo|duration_ms|\n",
      "+-------------+----------------+--------------------+----------+----+--------+------------+------+---+--------+----+-----------+------------+----------------+--------+-------+-------+-----------+\n",
      "|   Jason Mraz| I Won't Give Up|53QF56cjZA9RTuuMZ...|        68|2012|acoustic|       0.483| 0.303|  4| -10.058|   1|     0.0429|       0.694|             0.0|   0.115|  0.139|133.406|   240166.0|\n",
      "|   Jason Mraz|93 Million Miles|1s8tP3jP4GZcyHDsj...|        50|2012|acoustic|       0.572| 0.454|  3| -10.286|   1|     0.0258|       0.477|         1.37E-5|  0.0974|  0.515|140.182|   216387.0|\n",
      "|Joshua Hyslop|Do Not Let Me Go|7BRCa8MPiyuvr2VU3...|        57|2012|acoustic|       0.409| 0.234|  3| -13.711|   1|     0.0323|       0.338|          5.0E-5|  0.0895|  0.145|139.832|   158960.0|\n",
      "| Boyce Avenue|        Fast Car|63wsZUhUZLlh1Osyr...|        58|2012|acoustic|       0.392| 0.251| 10|  -9.845|   1|     0.0363|       0.807|             0.0|  0.0797|  0.508|204.961|   304293.0|\n",
      "| Andrew Belle|Sky's Still Blue|6nXIYClvJAfi6ujLi...|        54|2012|acoustic|        0.43| 0.791|  6|  -5.419|   0|     0.0302|      0.0726|          0.0193|    0.11|  0.217|171.864|   244320.0|\n",
      "+-------------+----------------+--------------------+----------+----+--------+------------+------+---+--------+----+-----------+------------+----------------+--------+-------+-------+-----------+\n",
      "only showing top 5 rows\n",
      "\n"
     ]
    }
   ],
   "execution_count": 17
  },
  {
   "metadata": {
    "ExecuteTime": {
     "end_time": "2024-12-05T00:25:24.259384Z",
     "start_time": "2024-12-05T00:25:18.204Z"
    }
   },
   "cell_type": "code",
   "source": [
    "# Count distinct values in key columns\n",
    "key_columns = ['artist_name', 'track_name', 'genre']\n",
    "distinct_counts = {col_name: spotify_df_filtered.select(col_name).distinct().count() for col_name in key_columns}\n",
    "\n",
    "for col_name, count in distinct_counts.items():\n",
    "    print(f\"Distinct values in {col_name}: {count}\")"
   ],
   "id": "7d84a44e2676678c",
   "outputs": [
    {
     "name": "stdout",
     "output_type": "stream",
     "text": [
      "Distinct values in artist_name: 64144\n",
      "Distinct values in track_name: 880697\n",
      "Distinct values in genre: 82\n"
     ]
    }
   ],
   "execution_count": 18
  },
  {
   "metadata": {
    "ExecuteTime": {
     "end_time": "2024-12-05T00:25:24.389919Z",
     "start_time": "2024-12-05T00:25:24.379840Z"
    }
   },
   "cell_type": "code",
   "source": "",
   "id": "5b651c9d6dcd98c7",
   "outputs": [],
   "execution_count": null
  },
  {
   "metadata": {},
   "cell_type": "markdown",
   "source": [
    "# Data Transformations\n",
    "\n",
    "Here are the goals of this section:\n",
    "\n",
    "1. **Encode categorical features:** Features like `genre` and `artist_name` are categorical and need to be encoded to numeric values for modeling.\n",
    "2. **Normalize or scale numeric features:** Standardized scales are crucial for similarity metrics like cosine similarity or Euclidean distance. Features like `danceability`, `energy`, `tempo`, etc., may have varying ranges, which can affect model performance. Therefore, we will normalize or standardize these values.\n",
    "3. **Generate additional features (if needed):** Create new features based on existing ones. For example, you might engineer a feature for \"popularity bucket\" if grouping songs by popularity levels makes sense for your recommendation algorithm. Or group songs by year into broader time periods (e.g., 5-year period) for optional temporal filtering."
   ],
   "id": "cb996db1b9e070f5"
  },
  {
   "metadata": {},
   "cell_type": "markdown",
   "source": [
    "## Encoding categorial features\n",
    "\n",
    "There are mutilple approaches for encoding categorical features, such as one-hot encoding, label encoding, embedding, frequency/popularity encoding, etc. We will choose the most suitable approach for each categorical feature based on their characteristics in the dataset.\n",
    "\n",
    "We will encode `genre` and `artist_name` to numeric values using PySpark's `StringIndexer`.\n",
    "\n",
    "### Encoding `genre` feature\n",
    "\n",
    "We will use one-hot encoding technique for `genre` because this feature has a limited number of unique values (392 in the dataset). Also, this technique works well with similarity metrics since each genre becomes a distinct dimension.\n"
   ],
   "id": "e93e75eb10447385"
  },
  {
   "metadata": {
    "ExecuteTime": {
     "end_time": "2024-12-05T00:25:40.318540Z",
     "start_time": "2024-12-05T00:25:39.205020Z"
    }
   },
   "cell_type": "code",
   "source": [
    "# Get distinct values of the 'genre' column\n",
    "unique_genres = spotify_df_filtered.select(\"genre\").distinct()\n",
    "unique_genres_list = [row['genre'] for row in unique_genres.collect()]\n",
    "print(unique_genres_list)"
   ],
   "id": "24125136ee383d83",
   "outputs": [
    {
     "name": "stdout",
     "output_type": "stream",
     "text": [
      "['singer-songwriter', 'folk', 'hardstyle', 'pop', 'death-metal', 'detroit-techno', 'k-pop', 'ambient', 'guitar', 'goth', 'cantopop', 'blues', 'breakbeat', 'dance', 'groove', 'indian', 'german', 'sad', 'spanish', 'french', 'electronic', 'dub', 'deep-house', 'edm', 'rock-n-roll', 'power-pop', 'progressive-house', 'swedish', 'chill', 'party', 'hip-hop', 'techno', 'hard-rock', 'indie-pop', 'jazz', 'new-age', 'show-tunes', 'trip-hop', 'punk-rock', 'country', 'hardcore', 'industrial', 'metalcore', 'songwriter', 'metal', 'soul', 'psych-rock', 'grindcore', 'pop-film', 'salsa', 'dancehall', 'club', 'electro', 'samba', 'drum-and-bass', 'heavy-metal', 'house', 'chicago-house', 'funk', 'alt-rock', 'sleep', 'dubstep', 'gospel', 'acoustic', 'rock', 'ska', 'opera', 'black-metal', 'romance', 'emo', 'tango', 'punk', 'disco', 'classical', 'sertanejo', 'afrobeat', 'garage', 'forro', 'trance', 'minimal-techno', 'comedy', 'piano']\n"
     ]
    }
   ],
   "execution_count": 19
  },
  {
   "metadata": {},
   "cell_type": "markdown",
   "source": "**Remarks for genre's unique values:** The distinct values in the genre column are single-valued entries, including words with hyphens such as \"black-metal\", \"alt-rock\", \"new-age\", etc. These hyphenated values are treated as single entities and do not represent multi-valued genres. Therefore, we can safely proceed with encoding this column using StringIndexer without needing to split multi-valued genres.",
   "id": "7fe764a9dbfe5c22"
  },
  {
   "metadata": {
    "ExecuteTime": {
     "end_time": "2024-12-05T00:28:58.906926Z",
     "start_time": "2024-12-05T00:28:56.346812Z"
    }
   },
   "cell_type": "code",
   "source": [
    "# Encoding genre feature\n",
    "\n",
    "from pyspark.ml.feature import StringIndexer, OneHotEncoder\n",
    "\n",
    "# StringIndexer: Converts genre into numerical indices\n",
    "genre_indexer = StringIndexer(inputCol=\"genre\", outputCol=\"genre_index\")\n",
    "spotify_df_filtered = genre_indexer.fit(spotify_df_filtered).transform(spotify_df_filtered)\n",
    "\n",
    "# OneHotEncoder: Converts indices into one-hot encoded vectors\n",
    "genre_encoder = OneHotEncoder(inputCol=\"genre_index\", outputCol=\"genre_onehot\", dropLast=False)\n",
    "spotify_df_encoded = genre_encoder.fit(spotify_df_filtered).transform(spotify_df_filtered)\n",
    "\n",
    "# show the results\n",
    "spotify_df_encoded.select(\"genre\", \"genre_index\", \"genre_onehot\").show(5, truncate=False)\n"
   ],
   "id": "e6fb56a7db2a374c",
   "outputs": [
    {
     "name": "stdout",
     "output_type": "stream",
     "text": [
      "+--------+-----------+--------------+\n",
      "|genre   |genre_index|genre_onehot  |\n",
      "+--------+-----------+--------------+\n",
      "|acoustic|3.0        |(82,[3],[1.0])|\n",
      "|acoustic|3.0        |(82,[3],[1.0])|\n",
      "|acoustic|3.0        |(82,[3],[1.0])|\n",
      "|acoustic|3.0        |(82,[3],[1.0])|\n",
      "|acoustic|3.0        |(82,[3],[1.0])|\n",
      "+--------+-----------+--------------+\n",
      "only showing top 5 rows\n",
      "\n"
     ]
    }
   ],
   "execution_count": 20
  },
  {
   "metadata": {
    "ExecuteTime": {
     "end_time": "2024-12-05T00:29:01.565185Z",
     "start_time": "2024-12-05T00:29:01.408791Z"
    }
   },
   "cell_type": "code",
   "source": [
    "# Optional: Show expanded one-hot encoding for better readability\n",
    "# by converting sparse vector to array\n",
    "\n",
    "from pyspark.ml.functions import vector_to_array\n",
    "\n",
    "spotify_df_encoded = spotify_df_encoded.withColumn(\"genre_onehot_array\", vector_to_array(col(\"genre_onehot\")))\n",
    "\n",
    "spotify_df_encoded.select(\"genre\", \"genre_index\", \"genre_onehot_array\").show(5, truncate=False)"
   ],
   "id": "acfa0392f6fad6ea",
   "outputs": [
    {
     "name": "stdout",
     "output_type": "stream",
     "text": [
      "+--------+-----------+--------------------------------------------------------------------------------------------------------------------------------------------------------------------------------------------------------------------------------------------------------------------------------------------------------------------------------------------------------------------------------------------------------------------------+\n",
      "|genre   |genre_index|genre_onehot_array                                                                                                                                                                                                                                                                                                                                                                                                        |\n",
      "+--------+-----------+--------------------------------------------------------------------------------------------------------------------------------------------------------------------------------------------------------------------------------------------------------------------------------------------------------------------------------------------------------------------------------------------------------------------------+\n",
      "|acoustic|3.0        |[0.0, 0.0, 0.0, 1.0, 0.0, 0.0, 0.0, 0.0, 0.0, 0.0, 0.0, 0.0, 0.0, 0.0, 0.0, 0.0, 0.0, 0.0, 0.0, 0.0, 0.0, 0.0, 0.0, 0.0, 0.0, 0.0, 0.0, 0.0, 0.0, 0.0, 0.0, 0.0, 0.0, 0.0, 0.0, 0.0, 0.0, 0.0, 0.0, 0.0, 0.0, 0.0, 0.0, 0.0, 0.0, 0.0, 0.0, 0.0, 0.0, 0.0, 0.0, 0.0, 0.0, 0.0, 0.0, 0.0, 0.0, 0.0, 0.0, 0.0, 0.0, 0.0, 0.0, 0.0, 0.0, 0.0, 0.0, 0.0, 0.0, 0.0, 0.0, 0.0, 0.0, 0.0, 0.0, 0.0, 0.0, 0.0, 0.0, 0.0, 0.0, 0.0]|\n",
      "|acoustic|3.0        |[0.0, 0.0, 0.0, 1.0, 0.0, 0.0, 0.0, 0.0, 0.0, 0.0, 0.0, 0.0, 0.0, 0.0, 0.0, 0.0, 0.0, 0.0, 0.0, 0.0, 0.0, 0.0, 0.0, 0.0, 0.0, 0.0, 0.0, 0.0, 0.0, 0.0, 0.0, 0.0, 0.0, 0.0, 0.0, 0.0, 0.0, 0.0, 0.0, 0.0, 0.0, 0.0, 0.0, 0.0, 0.0, 0.0, 0.0, 0.0, 0.0, 0.0, 0.0, 0.0, 0.0, 0.0, 0.0, 0.0, 0.0, 0.0, 0.0, 0.0, 0.0, 0.0, 0.0, 0.0, 0.0, 0.0, 0.0, 0.0, 0.0, 0.0, 0.0, 0.0, 0.0, 0.0, 0.0, 0.0, 0.0, 0.0, 0.0, 0.0, 0.0, 0.0]|\n",
      "|acoustic|3.0        |[0.0, 0.0, 0.0, 1.0, 0.0, 0.0, 0.0, 0.0, 0.0, 0.0, 0.0, 0.0, 0.0, 0.0, 0.0, 0.0, 0.0, 0.0, 0.0, 0.0, 0.0, 0.0, 0.0, 0.0, 0.0, 0.0, 0.0, 0.0, 0.0, 0.0, 0.0, 0.0, 0.0, 0.0, 0.0, 0.0, 0.0, 0.0, 0.0, 0.0, 0.0, 0.0, 0.0, 0.0, 0.0, 0.0, 0.0, 0.0, 0.0, 0.0, 0.0, 0.0, 0.0, 0.0, 0.0, 0.0, 0.0, 0.0, 0.0, 0.0, 0.0, 0.0, 0.0, 0.0, 0.0, 0.0, 0.0, 0.0, 0.0, 0.0, 0.0, 0.0, 0.0, 0.0, 0.0, 0.0, 0.0, 0.0, 0.0, 0.0, 0.0, 0.0]|\n",
      "|acoustic|3.0        |[0.0, 0.0, 0.0, 1.0, 0.0, 0.0, 0.0, 0.0, 0.0, 0.0, 0.0, 0.0, 0.0, 0.0, 0.0, 0.0, 0.0, 0.0, 0.0, 0.0, 0.0, 0.0, 0.0, 0.0, 0.0, 0.0, 0.0, 0.0, 0.0, 0.0, 0.0, 0.0, 0.0, 0.0, 0.0, 0.0, 0.0, 0.0, 0.0, 0.0, 0.0, 0.0, 0.0, 0.0, 0.0, 0.0, 0.0, 0.0, 0.0, 0.0, 0.0, 0.0, 0.0, 0.0, 0.0, 0.0, 0.0, 0.0, 0.0, 0.0, 0.0, 0.0, 0.0, 0.0, 0.0, 0.0, 0.0, 0.0, 0.0, 0.0, 0.0, 0.0, 0.0, 0.0, 0.0, 0.0, 0.0, 0.0, 0.0, 0.0, 0.0, 0.0]|\n",
      "|acoustic|3.0        |[0.0, 0.0, 0.0, 1.0, 0.0, 0.0, 0.0, 0.0, 0.0, 0.0, 0.0, 0.0, 0.0, 0.0, 0.0, 0.0, 0.0, 0.0, 0.0, 0.0, 0.0, 0.0, 0.0, 0.0, 0.0, 0.0, 0.0, 0.0, 0.0, 0.0, 0.0, 0.0, 0.0, 0.0, 0.0, 0.0, 0.0, 0.0, 0.0, 0.0, 0.0, 0.0, 0.0, 0.0, 0.0, 0.0, 0.0, 0.0, 0.0, 0.0, 0.0, 0.0, 0.0, 0.0, 0.0, 0.0, 0.0, 0.0, 0.0, 0.0, 0.0, 0.0, 0.0, 0.0, 0.0, 0.0, 0.0, 0.0, 0.0, 0.0, 0.0, 0.0, 0.0, 0.0, 0.0, 0.0, 0.0, 0.0, 0.0, 0.0, 0.0, 0.0]|\n",
      "+--------+-----------+--------------------------------------------------------------------------------------------------------------------------------------------------------------------------------------------------------------------------------------------------------------------------------------------------------------------------------------------------------------------------------------------------------------------------+\n",
      "only showing top 5 rows\n",
      "\n"
     ]
    }
   ],
   "execution_count": 21
  },
  {
   "metadata": {
    "ExecuteTime": {
     "end_time": "2024-12-05T00:34:50.299661Z",
     "start_time": "2024-12-05T00:34:50.150244Z"
    }
   },
   "cell_type": "code",
   "source": [
    "# review the dataframe\n",
    "# note that there are 3 new columns: genre_index, genre_onehot, genre_onehot_array\n",
    "spotify_df_encoded.show(5)"
   ],
   "id": "f2cae413370e5d87",
   "outputs": [
    {
     "name": "stdout",
     "output_type": "stream",
     "text": [
      "+--------------------+--------------------+--------------------+----------+----+--------+------------+------+---+--------+----+-----------+------------+----------------+--------+-------+-------+-----------+-----------+--------------+--------------------+\n",
      "|         artist_name|          track_name|            track_id|popularity|year|   genre|danceability|energy|key|loudness|mode|speechiness|acousticness|instrumentalness|liveness|valence|  tempo|duration_ms|genre_index|  genre_onehot|  genre_onehot_array|\n",
      "+--------------------+--------------------+--------------------+----------+----+--------+------------+------+---+--------+----+-----------+------------+----------------+--------+-------+-------+-----------+-----------+--------------+--------------------+\n",
      "|          Jason Mraz|     I Won't Give Up|53QF56cjZA9RTuuMZ...|        68|2012|acoustic|       0.483| 0.303|  4| -10.058|   1|     0.0429|       0.694|             0.0|   0.115|  0.139|133.406|   240166.0|        3.0|(82,[3],[1.0])|[0.0, 0.0, 0.0, 1...|\n",
      "|          Jason Mraz|    93 Million Miles|1s8tP3jP4GZcyHDsj...|        50|2012|acoustic|       0.572| 0.454|  3| -10.286|   1|     0.0258|       0.477|         1.37E-5|  0.0974|  0.515|140.182|   216387.0|        3.0|(82,[3],[1.0])|[0.0, 0.0, 0.0, 1...|\n",
      "|       Joshua Hyslop|    Do Not Let Me Go|7BRCa8MPiyuvr2VU3...|        57|2012|acoustic|       0.409| 0.234|  3| -13.711|   1|     0.0323|       0.338|          5.0E-5|  0.0895|  0.145|139.832|   158960.0|        3.0|(82,[3],[1.0])|[0.0, 0.0, 0.0, 1...|\n",
      "|        Boyce Avenue|            Fast Car|63wsZUhUZLlh1Osyr...|        58|2012|acoustic|       0.392| 0.251| 10|  -9.845|   1|     0.0363|       0.807|             0.0|  0.0797|  0.508|204.961|   304293.0|        3.0|(82,[3],[1.0])|[0.0, 0.0, 0.0, 1...|\n",
      "|        Andrew Belle|    Sky's Still Blue|6nXIYClvJAfi6ujLi...|        54|2012|acoustic|        0.43| 0.791|  6|  -5.419|   0|     0.0302|      0.0726|          0.0193|    0.11|  0.217|171.864|   244320.0|        3.0|(82,[3],[1.0])|[0.0, 0.0, 0.0, 1...|\n",
      "|       Chris Smither|       What They Say|24NvptbNKGs6sPy1V...|        48|2012|acoustic|       0.566|  0.57|  2|   -6.42|   1|     0.0329|       0.688|         1.73E-6|  0.0943|   0.96| 83.403|   166240.0|        3.0|(82,[3],[1.0])|[0.0, 0.0, 0.0, 1...|\n",
      "|          Matt Wertz|Walking in a Wint...|0BP7hSvLAG3URGrEv...|        48|2012|acoustic|       0.575| 0.606|  9|  -8.197|   1|       0.03|      0.0119|             0.0|  0.0675|  0.364|121.083|   152307.0|        3.0|(82,[3],[1.0])|[0.0, 0.0, 0.0, 1...|\n",
      "|Green River Ordin...|       Dancing Shoes|3Y6BuzQCg9p4yH347...|        45|2012|acoustic|       0.586| 0.423|  7|  -7.459|   1|     0.0261|       0.252|         5.83E-6|  0.0976|  0.318|138.133|   232373.0|        3.0|(82,[3],[1.0])|[0.0, 0.0, 0.0, 1...|\n",
      "|          Jason Mraz|Living in the Moment|3ce7k1L4EkZppZPz1...|        44|2012|acoustic|        0.65| 0.628|  7|   -7.16|   1|     0.0232|      0.0483|             0.0|   0.119|    0.7| 84.141|   235080.0|        3.0|(82,[3],[1.0])|[0.0, 0.0, 0.0, 1...|\n",
      "|        Boyce Avenue|              Heaven|2EKxmYmUdAVXlaHCn...|        58|2012|acoustic|       0.619|  0.28|  8| -10.238|   0|     0.0317|        0.73|             0.0|   0.103|  0.292|129.948|   250063.0|        3.0|(82,[3],[1.0])|[0.0, 0.0, 0.0, 1...|\n",
      "|   Tristan Prettyman|        Say Anything|1RjEDlhTp2iJXWPdL...|        45|2012|acoustic|       0.657|  0.43|  1| -10.202|   1|     0.0314|       0.534|         2.38E-4|    0.12|  0.335| 91.967|   236379.0|        3.0|(82,[3],[1.0])|[0.0, 0.0, 0.0, 1...|\n",
      "|          David Gray|Money (That's Wha...|38sSJ12azM6Mic7aj...|        45|2012|acoustic|       0.655| 0.692|  5|  -6.217|   1|     0.0326|       0.568|         2.34E-5|   0.119|  0.547|121.455|   234270.0|        3.0|(82,[3],[1.0])|[0.0, 0.0, 0.0, 1...|\n",
      "|        Boyce Avenue|    Someone Like You|6VtoP2sJt5oCmPOQI...|        55|2012|acoustic|       0.439| 0.207|  1|  -9.573|   1|     0.0297|       0.608|             0.0|   0.186|  0.264|136.514|   276147.0|        3.0|(82,[3],[1.0])|[0.0, 0.0, 0.0, 1...|\n",
      "|          Jason Mraz|    The Woman I Love|0AYG9AcwqEeqgAw3O...|        40|2012|acoustic|       0.591| 0.647|  4|   -8.34|   1|     0.0277|       0.067|         6.57E-5|   0.231|  0.678|  79.68|   190752.0|        3.0|(82,[3],[1.0])|[0.0, 0.0, 0.0, 1...|\n",
      "|        Eddie Vedder| I Shall Be Released|0J1iFISejodqBIy0Q...|        44|2012|acoustic|        0.45| 0.713|  6|  -7.503|   0|     0.0386|       0.157|             0.0|   0.992|   0.36|  74.71|   283587.0|        3.0|(82,[3],[1.0])|[0.0, 0.0, 0.0, 1...|\n",
      "|      The Civil Wars|        Kingdom Come|1IZc5f9ulw7Ge2eOp...|        41|2012|acoustic|       0.497| 0.277|  4| -11.382|   0|     0.0373|       0.846|         4.77E-6|   0.111|  0.179| 81.367|   222560.0|        3.0|(82,[3],[1.0])|[0.0, 0.0, 0.0, 1...|\n",
      "|     Gabrielle Aplin|                Home|20kpTTSvI4ok6Gm1u...|        57|2012|acoustic|       0.439| 0.265|  2|  -10.72|   1|     0.0343|       0.736|             0.0|   0.093|  0.382|140.494|   247002.0|        3.0|(82,[3],[1.0])|[0.0, 0.0, 0.0, 1...|\n",
      "|          Harley Poe|Transvestities Ca...|46KacVTVWMkyXS0jf...|        39|2012|acoustic|       0.499| 0.614|  7|  -8.175|   1|     0.0621|       0.151|         3.52E-6|  0.0555|  0.605| 89.038|   276973.0|        3.0|(82,[3],[1.0])|[0.0, 0.0, 0.0, 1...|\n",
      "|            Ron Pope|   One Grain of Sand|3yqJGfvXtPZLiWHVe...|        49|2012|acoustic|       0.713| 0.824|  3|  -7.168|   1|     0.0393|       0.106|         8.03E-5|    0.13|  0.696|120.028|   207240.0|        3.0|(82,[3],[1.0])|[0.0, 0.0, 0.0, 1...|\n",
      "|      Sara Bareilles|Once Upon Another...|7KG9zriC6iP8F1CNi...|        39|2012|acoustic|       0.275| 0.216|  2| -14.504|   1|     0.0493|       0.896|             0.0|   0.231| 0.0551| 95.421|   324333.0|        3.0|(82,[3],[1.0])|[0.0, 0.0, 0.0, 1...|\n",
      "+--------------------+--------------------+--------------------+----------+----+--------+------------+------+---+--------+----+-----------+------------+----------------+--------+-------+-------+-----------+-----------+--------------+--------------------+\n",
      "only showing top 20 rows\n",
      "\n"
     ]
    }
   ],
   "execution_count": 23
  },
  {
   "metadata": {},
   "cell_type": "markdown",
   "source": [
    "### Encoding `artist_name` feature\n",
    "\n",
    "We will use the Frequency (or Popularity) Encoding technique because `artist_name` has a high cardinality (64,159 distinct values). ALso, frequency encoding reduces the feature space while retaining meaningful patterns (e.g., more popular artists might appear in recommendations more frequently)."
   ],
   "id": "7894b2e0ea1ce44a"
  },
  {
   "metadata": {
    "ExecuteTime": {
     "end_time": "2024-12-05T00:36:08.736668Z",
     "start_time": "2024-12-05T00:36:04.659875Z"
    }
   },
   "cell_type": "code",
   "source": [
    "# from pyspark.sql.functions import col, count, lit\n",
    "\n",
    "# Calculate the frequency of each artist\n",
    "artist_frequency = spotify_df_encoded.groupBy(\"artist_name\").count() \\\n",
    "                             .withColumnRenamed(\"count\", \"artist_frequency\")\n",
    "\n",
    "# Join the frequency data back to the main DataFrame\n",
    "spotify_df_encoded = spotify_df_encoded.join(artist_frequency, on=\"artist_name\", how=\"left\")\n",
    "\n",
    "# Show the results\n",
    "spotify_df_encoded.select(\"artist_name\", \"artist_frequency\").distinct().show(5, truncate=False)\n"
   ],
   "id": "7eca80a35e165d1b",
   "outputs": [
    {
     "name": "stdout",
     "output_type": "stream",
     "text": [
      "+-----------------+----------------+\n",
      "|artist_name      |artist_frequency|\n",
      "+-----------------+----------------+\n",
      "|Ramshackle Glory |31              |\n",
      "|Zach Berkman     |17              |\n",
      "|The Black Keys   |209             |\n",
      "|Black Pistol Fire|77              |\n",
      "|Jane's Addiction |55              |\n",
      "+-----------------+----------------+\n",
      "only showing top 5 rows\n",
      "\n"
     ]
    }
   ],
   "execution_count": 24
  },
  {
   "metadata": {
    "ExecuteTime": {
     "end_time": "2024-12-05T00:36:32.856521Z",
     "start_time": "2024-12-05T00:36:30.932155Z"
    }
   },
   "cell_type": "code",
   "source": [
    "# review the dataframe\n",
    "# note that there are one new columns: artist_frequency\n",
    "\n",
    "spotify_df_encoded.show(5)"
   ],
   "id": "3be9f0500a7ae216",
   "outputs": [
    {
     "name": "stdout",
     "output_type": "stream",
     "text": [
      "+-------------+----------------+--------------------+----------+----+--------+------------+------+---+--------+----+-----------+------------+----------------+--------+-------+-------+-----------+-----------+--------------+----------------+\n",
      "|  artist_name|      track_name|            track_id|popularity|year|   genre|danceability|energy|key|loudness|mode|speechiness|acousticness|instrumentalness|liveness|valence|  tempo|duration_ms|genre_index|  genre_onehot|artist_frequency|\n",
      "+-------------+----------------+--------------------+----------+----+--------+------------+------+---+--------+----+-----------+------------+----------------+--------+-------+-------+-----------+-----------+--------------+----------------+\n",
      "|   Jason Mraz| I Won't Give Up|53QF56cjZA9RTuuMZ...|        68|2012|acoustic|       0.483| 0.303|  4| -10.058|   1|     0.0429|       0.694|             0.0|   0.115|  0.139|133.406|   240166.0|        3.0|(82,[3],[1.0])|             193|\n",
      "|   Jason Mraz|93 Million Miles|1s8tP3jP4GZcyHDsj...|        50|2012|acoustic|       0.572| 0.454|  3| -10.286|   1|     0.0258|       0.477|         1.37E-5|  0.0974|  0.515|140.182|   216387.0|        3.0|(82,[3],[1.0])|             193|\n",
      "| Boyce Avenue|        Fast Car|63wsZUhUZLlh1Osyr...|        58|2012|acoustic|       0.392| 0.251| 10|  -9.845|   1|     0.0363|       0.807|             0.0|  0.0797|  0.508|204.961|   304293.0|        3.0|(82,[3],[1.0])|             337|\n",
      "| Andrew Belle|Sky's Still Blue|6nXIYClvJAfi6ujLi...|        54|2012|acoustic|        0.43| 0.791|  6|  -5.419|   0|     0.0302|      0.0726|          0.0193|    0.11|  0.217|171.864|   244320.0|        3.0|(82,[3],[1.0])|              66|\n",
      "|Chris Smither|   What They Say|24NvptbNKGs6sPy1V...|        48|2012|acoustic|       0.566|  0.57|  2|   -6.42|   1|     0.0329|       0.688|         1.73E-6|  0.0943|   0.96| 83.403|   166240.0|        3.0|(82,[3],[1.0])|              78|\n",
      "+-------------+----------------+--------------------+----------+----+--------+------------+------+---+--------+----+-----------+------------+----------------+--------+-------+-------+-----------+-----------+--------------+----------------+\n",
      "only showing top 5 rows\n",
      "\n"
     ]
    }
   ],
   "execution_count": 25
  },
  {
   "metadata": {},
   "cell_type": "code",
   "source": [
    "## OPTIONAL: use one-hot encoding method - this is not recommended because:\n",
    "## Treats all artists equally, which may lose meaningful patterns like artist popularity.\n",
    "## May introduce an artificial ordinal relationship between artists (e.g., artist_index = 0 vs. artist_index = 1).\n",
    "\n",
    "# ## Check the unique values in the 'artist_name' column \n",
    "# \n",
    "# # group by 'genre', count occurrences, and order by count in descending order\n",
    "# artist_name_counts = spotify_df.groupBy(\"artist_name\").count().orderBy(col(\"count\").desc())\n",
    "# \n",
    "# artist_name_counts.show(10)\n",
    "# \n",
    "# # encode the 'artist_name' column\n",
    "# artist_indexer = StringIndexer(inputCol=\"artist_name\", outputCol=\"artist_index\")\n",
    "# spotify_df_encoded = artist_indexer.fit(spotify_df_encoded).transform(spotify_df_encoded)\n",
    "# \n",
    "# # View the distinct values of artist_name and their corresponding artist_index\n",
    "# distinct_artist_mapping = spotify_df_encoded.select(\"artist_name\", \"artist_index\").distinct()\n",
    "# \n",
    "# distinct_artist_mapping = distinct_artist_mapping.orderBy(\"artist_index\")\n",
    "# \n",
    "# distinct_artist_mapping.show(10, truncate=False)"
   ],
   "id": "ae2baf9e1ebbbfab",
   "outputs": [],
   "execution_count": null
  },
  {
   "metadata": {},
   "cell_type": "code",
   "source": [
    "## OPTIONAL: \n",
    "# # drop the original categorical columns to avoid redundancy (optional)\n",
    "# spotify_df_transformed = spotify_df_encoded.drop(\"genre\", \"artist_name\")\n",
    "# \n",
    "# # Verify encoding\n",
    "# spotify_df_transformed.show(5)"
   ],
   "id": "40bb4ccfdd242ea1",
   "outputs": [],
   "execution_count": null
  },
  {
   "metadata": {},
   "cell_type": "code",
   "source": "# spotify_df_encoded.show(5)",
   "id": "c5cdcc8f53b389f4",
   "outputs": [],
   "execution_count": null
  },
  {
   "metadata": {
    "ExecuteTime": {
     "end_time": "2024-12-05T00:38:56.274164Z",
     "start_time": "2024-12-05T00:38:47.855465Z"
    }
   },
   "cell_type": "code",
   "source": [
    "## OPTIONAL: Save the encoded dataframe to a Parquet file for reuse\n",
    "spotify_df_encoded.write.parquet(\"./spotify_df_encoded.parquet\", mode=\"overwrite\")"
   ],
   "id": "99932de75b7f1fdf",
   "outputs": [],
   "execution_count": 26
  },
  {
   "metadata": {},
   "cell_type": "markdown",
   "source": [
    "## Normalize Numerical Features\n",
    "\n",
    "We will normalize numerical features like `danceability`, `energy`, `tempo`, etc., to have values between 0 and 1 using `MinMaxScaler`. \n",
    "\n",
    "Min-Max scaling is typically the best choice for recommendation systems, especially when working with similarity metrics like cosine similarity or Euclidean distance.\n",
    "\n",
    "There are a few reasons why we should do scaling for these numerical values:\n",
    "\n",
    "* Scaling helps to standardize different scales across features. For example, features like `loudness` (negative values) and `tempo` (positive, larger range) have much different scales.\n",
    "* Scaling also improves model performance because many ML algorithms, such as neural networks and matrix factorization (used in recommendation systems), will converge faster and perform better with normalized input data."
   ],
   "id": "9016b2d4022533ca"
  },
  {
   "metadata": {},
   "cell_type": "code",
   "source": [
    "from pyspark.ml.feature import MinMaxScaler, VectorAssembler\n",
    "\n",
    "# assemble all numerical features into a single vector\n",
    "numerical_features = [\n",
    "    'danceability', 'energy', 'key', 'loudness', 'mode', \n",
    "    'speechiness', 'acousticness', 'instrumentalness', 'liveness', \n",
    "    'valence', 'tempo', 'duration_ms', 'popularity'\n",
    "]\n",
    "\n",
    "assembler = VectorAssembler(inputCols=numerical_features, outputCol=\"features_vector\")\n",
    "spotify_df_vectorized = assembler.transform(spotify_df_encoded)\n",
    "\n",
    "# normalize the feature vector\n",
    "scaler = MinMaxScaler(inputCol=\"features_vector\", outputCol=\"scaled_features\")\n",
    "scaler_model = scaler.fit(spotify_df_vectorized)\n",
    "spotify_df_normalized = scaler_model.transform(spotify_df_vectorized)\n",
    "\n",
    "# # keep only the scaled features and other relevant columns\n",
    "# final_columns = ['track_id', 'year', 'scaled_features', 'genre_index', 'artist_index']\n",
    "# spotify_df_final = spotify_df_normalized.select(*final_columns)\n",
    "# \n",
    "# # Verify the final transformed DataFrame\n",
    "# spotify_df_final.show(5)\n"
   ],
   "id": "5e0abf295b17d410",
   "outputs": [],
   "execution_count": null
  },
  {
   "metadata": {},
   "cell_type": "code",
   "source": [
    "# Optionally, split the scaled features back into individual columns\n",
    "from pyspark.sql.functions import udf\n",
    "from pyspark.ml.linalg import DenseVector\n",
    "\n",
    "def extract_column(index):\n",
    "    return udf(lambda vector: float(vector[index]), returnType=DoubleType())\n",
    "\n",
    "for i, col_name in enumerate(numerical_features):\n",
    "    spotify_df_normalized = spotify_df_normalized.withColumn(f\"{col_name}_scaled\", extract_column(i)(col(\"scaled_features\")))\n",
    "\n",
    "# Drop intermediate columns if needed\n",
    "spotify_df_normalized = spotify_df_normalized.drop(\"numerical_vector\", \"scaled_features\")\n",
    "\n",
    "# Show scaled features\n",
    "spotify_df_normalized.select(*[f\"{col}_scaled\" for col in numerical_features]).show(5, truncate=False)"
   ],
   "id": "e05bd4056036a34b",
   "outputs": [],
   "execution_count": null
  },
  {
   "metadata": {},
   "cell_type": "markdown",
   "source": [
    "## Verify data preparation\n",
    "\n",
    "Before proceeding with EDA, we have to thoroughly verify the data to ensure everything is ready for the next steps, such as EDA. We’ll conduct the following checks:\n",
    "\n",
    "1. check for missing values.\n",
    "2. verify data types.\n",
    "3. check for outliers.\n",
    "4. verify data balancing. This menas that, if needed, we will verify that categorical features like genre_index or year are reasonably balanced. This ensures the recommendation system won’t be biased."
   ],
   "id": "353036e77ba41e7c"
  },
  {
   "metadata": {},
   "cell_type": "code",
   "source": [
    "from pyspark.sql.functions import col, when, count\n",
    "# check for missing or null values in each column\n",
    "missing_values_check = spotify_df_final.select([\n",
    "    count(when(col(c).isNull(), c)).alias(c) for c in spotify_df_final.columns\n",
    "])\n",
    "\n",
    "# show results\n",
    "missing_values_check.show()\n"
   ],
   "id": "ce94d3a40223ebdd",
   "outputs": [],
   "execution_count": null
  },
  {
   "metadata": {},
   "cell_type": "code",
   "source": [
    "# print schema to verify data types\n",
    "spotify_df_final.printSchema()\n"
   ],
   "id": "df69b82d73071808",
   "outputs": [],
   "execution_count": null
  },
  {
   "metadata": {},
   "cell_type": "code",
   "source": [
    "from pyspark.sql.functions import count, countDistinct, min, max\n",
    "\n",
    "# check distinct values of genre_index and artist_index\n",
    "spotify_df_final.select(\"genre_index\").distinct().show()\n",
    "spotify_df_final.select(\"artist_index\").distinct().show()\n"
   ],
   "id": "523daf56a43148f7",
   "outputs": [],
   "execution_count": null
  },
  {
   "metadata": {},
   "cell_type": "code",
   "source": [
    "# count the number of records per genre\n",
    "spotify_df_final.groupBy(\"genre_index\").count().orderBy(\"count\", ascending=False).show()\n",
    "\n",
    "# count the number of records per year\n",
    "spotify_df_final.groupBy(\"year\").count().orderBy(\"year\").show()\n"
   ],
   "id": "b1efd0aa10139292",
   "outputs": [],
   "execution_count": null
  },
  {
   "metadata": {},
   "cell_type": "markdown",
   "source": [
    "**REmarks for data balancing:**\n",
    "\n",
    "* The distribution of `genre_index` is fairly balanced. No single genre dominates excessively, which ensures the dataset won't introduce significant bias in training the model.\n",
    "* The `year` distribution is also reasonably balanced, except for some variation in track counts across years. For example, 2012 to 2019 have slightly higher counts compared to earlier years. This could imply more recent data collection or increased music production in those years. In conclusion, the distribution of `genre_index` and `year` looks good, and we can proceed without additional rebalancing."
   ],
   "id": "cb7432aa0eb7f4e9"
  },
  {
   "metadata": {},
   "cell_type": "code",
   "source": "",
   "id": "504e19883aa0b5e5",
   "outputs": [],
   "execution_count": null
  },
  {
   "metadata": {},
   "cell_type": "markdown",
   "source": [
    "# Exploratory Data Analysis (EDA) - IN PROGRESS\n",
    "\n"
   ],
   "id": "fa5509324eee299e"
  },
  {
   "metadata": {},
   "cell_type": "code",
   "source": [
    "# Extract the 'popularity' feature (last value in scaled_features vector) and convert to Pandas\n",
    "popularity_rdd = spotify_df_final.select(\"scaled_features\").rdd.map(lambda x: x[0][-1])\n",
    "popularity_list = popularity_rdd.collect()  # Collect to a Python list\n",
    "\n",
    "# Convert the list to a Pandas DataFrame\n",
    "popularity_df = pd.DataFrame(popularity_list, columns=[\"popularity\"])\n",
    "\n",
    "# Plot histogram for 'popularity'\n",
    "plt.figure(figsize=(10, 6))\n",
    "plt.hist(popularity_df['popularity'], bins=30, alpha=0.7, edgecolor='black', color='blue')\n",
    "plt.title('Distribution of Popularity', fontsize=14)\n",
    "plt.xlabel('Popularity', fontsize=12)\n",
    "plt.ylabel('Frequency', fontsize=12)\n",
    "plt.grid(axis='y', linestyle='--', alpha=0.7)\n",
    "plt.show()\n"
   ],
   "id": "6e2282d5da91fc1",
   "outputs": [],
   "execution_count": null
  },
  {
   "metadata": {},
   "cell_type": "code",
   "source": [
    "# Aggregate count by 'year'\n",
    "year_distribution = spotify_df_final.groupBy(\"year\").count().orderBy(\"year\").toPandas()\n",
    "\n",
    "# Plot bar chart for 'year'\n",
    "plt.figure(figsize=(12, 6))\n",
    "plt.bar(year_distribution['year'], year_distribution['count'], color='orange', edgecolor='black', alpha=0.7)\n",
    "plt.title('Distribution of Songs by Year', fontsize=14)\n",
    "plt.xlabel('Year', fontsize=12)\n",
    "plt.ylabel('Number of Songs', fontsize=12)\n",
    "plt.xticks(rotation=45)\n",
    "plt.grid(axis='y', linestyle='--', alpha=0.7)\n",
    "plt.show()\n"
   ],
   "id": "fdc56c58fbffaad9",
   "outputs": [],
   "execution_count": null
  },
  {
   "metadata": {},
   "cell_type": "code",
   "source": [
    "# Aggregate count by 'genre_index'\n",
    "genre_distribution = spotify_df_final.groupBy(\"genre_index\").count().orderBy(\"genre_index\").toPandas()\n",
    "\n",
    "# Plot bar chart for 'genre_index'\n",
    "plt.figure(figsize=(14, 6))\n",
    "plt.bar(genre_distribution['genre_index'], genre_distribution['count'], color='green', edgecolor='black', alpha=0.7)\n",
    "plt.title('Distribution of Songs by Genre', fontsize=14)\n",
    "plt.xlabel('Genre Index', fontsize=12)\n",
    "plt.ylabel('Number of Songs', fontsize=12)\n",
    "plt.grid(axis='y', linestyle='--', alpha=0.7)\n",
    "plt.show()\n"
   ],
   "id": "ce714020e08357f8",
   "outputs": [],
   "execution_count": null
  },
  {
   "metadata": {},
   "cell_type": "markdown",
   "source": [
    "**Remarks for visuazliations:**\n",
    "\n",
    "Popularity Distribution:\n",
    "\n",
    "* The distribution is highly skewed towards the lower end, with most songs having very low popularity scores.\n",
    "* This aligns with the real-world observation where only a small fraction of songs achieve high popularity.\n",
    "* The long tail suggests a significant proportion of the dataset includes less popular tracks.\n",
    "\n",
    "Year Distribution:\n",
    "\n",
    "* The number of songs remains fairly consistent over the years, with a notable dip around 2016 and a peak in 2017-2019.\n",
    "* This could reflect changing trends in data availability, music production, or shifts in Spotify's dataset focus.\n",
    "\n",
    "Genre Distribution:\n",
    "\n",
    "* The genre distribution shows a gradual decline in the number of songs as genre indices increase.\n",
    "* The most common genres (lower indices) dominate the dataset, likely representing mainstream genres, while niche genres have fewer entries.\n"
   ],
   "id": "3147cde8fb3dfa68"
  },
  {
   "metadata": {},
   "cell_type": "code",
   "source": "",
   "id": "7767afd79e73038c",
   "outputs": [],
   "execution_count": null
  },
  {
   "metadata": {},
   "cell_type": "code",
   "source": "",
   "id": "4df259b618c8865e",
   "outputs": [],
   "execution_count": null
  },
  {
   "metadata": {},
   "cell_type": "code",
   "source": "",
   "id": "f11feec1ea4f4c72",
   "outputs": [],
   "execution_count": null
  },
  {
   "metadata": {},
   "cell_type": "markdown",
   "source": "",
   "id": "4b7469c978508953"
  }
 ],
 "metadata": {
  "kernelspec": {
   "display_name": "Python 3",
   "language": "python",
   "name": "python3"
  },
  "language_info": {
   "codemirror_mode": {
    "name": "ipython",
    "version": 2
   },
   "file_extension": ".py",
   "mimetype": "text/x-python",
   "name": "python",
   "nbconvert_exporter": "python",
   "pygments_lexer": "ipython2",
   "version": "2.7.6"
  }
 },
 "nbformat": 4,
 "nbformat_minor": 5
}
